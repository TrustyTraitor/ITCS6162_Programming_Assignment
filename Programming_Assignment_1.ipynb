{
 "nbformat": 4,
 "nbformat_minor": 0,
 "metadata": {
  "colab": {
   "provenance": [],
   "collapsed_sections": [
    "NjxACjUgFwsk",
    "AyeSaLpRGYuC",
    "fOXp00QSbtHk",
    "MIN3XqC0eUAu",
    "u_YceL18lWlN",
    "_ZE31gB7lImI",
    "Nuz1s-Vh_L55"
   ]
  },
  "kernelspec": {
   "name": "python3",
   "display_name": "Python 3 (ipykernel)",
   "language": "python"
  },
  "language_info": {
   "name": "python"
  }
 },
 "cells": [
  {
   "cell_type": "markdown",
   "source": [
    "# ITCS 6162: Data Mining - Programming Assignment"
   ],
   "metadata": {
    "id": "Hr7SGYEq69wv"
   }
  },
  {
   "cell_type": "markdown",
   "source": [
    "**In this assignment, you will explore data analysis, recommendation algorithms, and graph-based techniques using the MovieLens dataset. Your tasks will range from basic data exploration to advanced recommendation models, including:**\n",
    "- Data manipulation with pandas\n",
    "- User-item collaborative filtering\n",
    "- Similarity-based recommendation models\n",
    "- A Pixie-inspired Graph-based recommendation using adjacency lists with weighted random walks (without using NetworkX)\n"
   ],
   "metadata": {
    "id": "L_idzFtE7M_9"
   }
  },
  {
   "cell_type": "markdown",
   "source": [
    "#### **Dataset Files:**\n",
    "- **`u.data`**: User-movie ratings (`user_id  movie_id  rating  timestamp`)\n",
    "- **`u.item`**: Movie metadata (`movie_id | title | release date | IMDB_website`)\n",
    "- **`u.user`**: User demographics (`user_id | age | gender | occupation | zip_code`)"
   ],
   "metadata": {
    "id": "EZxjOF_l79zc"
   }
  },
  {
   "cell_type": "markdown",
   "source": [
    "## **Part 1: Exploring and Cleaning Data**"
   ],
   "metadata": {
    "id": "ytr6isc2F9g6"
   }
  },
  {
   "cell_type": "markdown",
   "source": [
    "### Inspecting the Dataset Format\n",
    "\n",
    "The dataset is not in a traditional CSV format. To examine its structure, use the following shell command to display the first 10 lines of the file:\n",
    "\n",
    "```sh\n",
    "!head <file_name>\n"
   ],
   "metadata": {
    "id": "87kIrhTC9Ba1"
   }
  },
  {
   "cell_type": "markdown",
   "source": [
    "**In the cells given below. Write the code to read the files.**"
   ],
   "metadata": {
    "id": "PjOtbBWM9xWv"
   }
  },
  {
   "cell_type": "code",
   "metadata": {
    "id": "XOoSaKsq68nD",
    "ExecuteTime": {
     "end_time": "2025-04-15T15:44:20.985740Z",
     "start_time": "2025-04-15T15:44:20.983637Z"
    }
   },
   "source": [
    "import pandas\n",
    "\n",
    "# u.data\n",
    "udata = open('./models/u.data', 'r')"
   ],
   "outputs": [],
   "execution_count": 276
  },
  {
   "cell_type": "code",
   "source": [
    "# u.item\n",
    "uitem = open('./models/u.item', 'r', encoding='latin-1')"
   ],
   "metadata": {
    "id": "dckMko0o9t-D",
    "ExecuteTime": {
     "end_time": "2025-04-15T15:43:45.477340Z",
     "start_time": "2025-04-15T15:43:45.447488Z"
    }
   },
   "outputs": [],
   "execution_count": 256
  },
  {
   "cell_type": "code",
   "source": [
    "# u.user\n",
    "uuser = open('./models/u.user','r')"
   ],
   "metadata": {
    "id": "R7kBwpsi-WKB",
    "ExecuteTime": {
     "end_time": "2025-04-15T15:43:45.519086Z",
     "start_time": "2025-04-15T15:43:45.488345Z"
    }
   },
   "outputs": [],
   "execution_count": 257
  },
  {
   "cell_type": "markdown",
   "source": [
    "#### Loading the Dataset with Pandas"
   ],
   "metadata": {
    "id": "YnryIHO7-db3"
   }
  },
  {
   "cell_type": "markdown",
   "source": [
    "Use **pandas** to load the dataset into a DataFrame for analysis. Follow these steps:  \n",
    "\n",
    "1. Import the necessary library: `pandas`.  \n",
    "2. Use `pd.read_csv()` (or an appropriate function) to read the dataset file.  \n",
    "3. Ensure the dataset is loaded with the correct delimiter (e.g., `','`, `'\\t'`,`'|'` , or another separator if needed).  \n",
    "4. Select and display the first few rows using `.head()`."
   ],
   "metadata": {
    "id": "Jwmza7riBj30"
   }
  },
  {
   "cell_type": "markdown",
   "source": [
    "Ensure that:  \n",
    "\n",
    "- The `ratings` dataset is read from `\"u.data\"` using tab (`'\\t'`) as a separator and column names (`\"user_id\"`, `\"movie_id\"`, `\"rating\"` and `\"timestamp\"`).  \n",
    "- The `movies` dataset is read from `\"u.item\"` using `'|'` as a separator, use columns (`0`, `1`, `2`), encoding (`\"latin-1\"`) and name the columns (`movie_id`, `title`, and `release_date`).  \n",
    "- The `users` dataset is read from `\"u.user\"` using `'|'` as a separator, use columns (`0`, `1`, `2`, `3`) and name the columns (`user_id`, `age`, `gender`, and `occupation`)."
   ],
   "metadata": {
    "id": "KPEDYYGOBOSD"
   }
  },
  {
   "cell_type": "code",
   "source": [
    "# ratings\n",
    "ratings = pandas.read_csv(udata, sep='\\t', header=None, names=[\"user_id\", \"movie_id\", \"rating\", \"timestamp\"])"
   ],
   "metadata": {
    "id": "Go-Y-Ofy-ZTk",
    "ExecuteTime": {
     "end_time": "2025-04-15T15:43:45.573978Z",
     "start_time": "2025-04-15T15:43:45.530089Z"
    }
   },
   "outputs": [],
   "execution_count": 258
  },
  {
   "cell_type": "code",
   "source": [
    "# movies\n",
    "movies = pandas.read_csv(uitem, sep='|', encoding='latin-1', header=None, usecols=[0,1,2], names=[\"movie_id\", \"title\",\"release_date\"])\n",
    "print(movies.head())"
   ],
   "metadata": {
    "id": "zM8IJGh-CLN5",
    "ExecuteTime": {
     "end_time": "2025-04-15T15:43:45.596394Z",
     "start_time": "2025-04-15T15:43:45.585387Z"
    }
   },
   "outputs": [
    {
     "name": "stdout",
     "output_type": "stream",
     "text": [
      "   movie_id              title release_date\n",
      "0         1   Toy Story (1995)  01-Jan-1995\n",
      "1         2   GoldenEye (1995)  01-Jan-1995\n",
      "2         3  Four Rooms (1995)  01-Jan-1995\n",
      "3         4  Get Shorty (1995)  01-Jan-1995\n",
      "4         5     Copycat (1995)  01-Jan-1995\n"
     ]
    }
   ],
   "execution_count": 259
  },
  {
   "cell_type": "code",
   "source": [
    "# users\n",
    "users = pandas.read_csv(uuser, sep='|', header=None, names=[\"user_id\", \"age\", \"gender\", \"occupation\"])"
   ],
   "metadata": {
    "id": "hsekVjevCNKj",
    "ExecuteTime": {
     "end_time": "2025-04-15T15:43:45.631839Z",
     "start_time": "2025-04-15T15:43:45.618432Z"
    }
   },
   "outputs": [],
   "execution_count": 260
  },
  {
   "cell_type": "markdown",
   "source": [
    "**Note:** As a **Bonus** task save the `ratings`, `movies` and `users` dataframe created into a `.csv` file format. <br>\n",
    "**Hint:** Use the `to_csv()` function in pandas to save these DataFrames as CSV files."
   ],
   "metadata": {
    "id": "jE5OHLqt7xeq"
   }
  },
  {
   "cell_type": "code",
   "source": [
    "# ratings\n",
    "ratings.to_csv('./data/ratings.csv', index=False)"
   ],
   "metadata": {
    "id": "Chyv3c4n8wVC",
    "ExecuteTime": {
     "end_time": "2025-04-15T15:43:45.723769Z",
     "start_time": "2025-04-15T15:43:45.634842Z"
    }
   },
   "outputs": [],
   "execution_count": 261
  },
  {
   "cell_type": "code",
   "source": [
    "# movies\n",
    "movies.to_csv('./data/movies.csv', index=False)"
   ],
   "metadata": {
    "id": "Gl7zVV3y8wKU",
    "ExecuteTime": {
     "end_time": "2025-04-15T15:43:45.740589Z",
     "start_time": "2025-04-15T15:43:45.735078Z"
    }
   },
   "outputs": [],
   "execution_count": 262
  },
  {
   "cell_type": "code",
   "source": [
    "# users\n",
    "users.to_csv('./data/users.csv', index=False)"
   ],
   "metadata": {
    "id": "0YwVuebp8u46",
    "ExecuteTime": {
     "end_time": "2025-04-15T15:43:45.772161Z",
     "start_time": "2025-04-15T15:43:45.751760Z"
    }
   },
   "outputs": [],
   "execution_count": 263
  },
  {
   "cell_type": "markdown",
   "source": [
    "**Display the first 10 rows of each file.**"
   ],
   "metadata": {
    "id": "s3S1y82cCYxx"
   }
  },
  {
   "cell_type": "code",
   "source": [
    "# ratings\n",
    "ratings.loc[0:9]"
   ],
   "metadata": {
    "id": "x5ZOXTqnCPgw",
    "ExecuteTime": {
     "end_time": "2025-04-15T21:01:08.481309Z",
     "start_time": "2025-04-15T21:01:08.476307Z"
    }
   },
   "outputs": [
    {
     "data": {
      "text/plain": [
       "   user_id  movie_id  rating                     timestamp\n",
       "0      196       242       3 1970-01-01 00:00:00.881250949\n",
       "1      186       302       3 1970-01-01 00:00:00.891717742\n",
       "2       22       377       1 1970-01-01 00:00:00.878887116\n",
       "3      244        51       2 1970-01-01 00:00:00.880606923\n",
       "4      166       346       1 1970-01-01 00:00:00.886397596\n",
       "5      298       474       4 1970-01-01 00:00:00.884182806\n",
       "6      115       265       2 1970-01-01 00:00:00.881171488\n",
       "7      253       465       5 1970-01-01 00:00:00.891628467\n",
       "8      305       451       3 1970-01-01 00:00:00.886324817\n",
       "9        6        86       3 1970-01-01 00:00:00.883603013"
      ],
      "text/html": [
       "<div>\n",
       "<style scoped>\n",
       "    .dataframe tbody tr th:only-of-type {\n",
       "        vertical-align: middle;\n",
       "    }\n",
       "\n",
       "    .dataframe tbody tr th {\n",
       "        vertical-align: top;\n",
       "    }\n",
       "\n",
       "    .dataframe thead th {\n",
       "        text-align: right;\n",
       "    }\n",
       "</style>\n",
       "<table border=\"1\" class=\"dataframe\">\n",
       "  <thead>\n",
       "    <tr style=\"text-align: right;\">\n",
       "      <th></th>\n",
       "      <th>user_id</th>\n",
       "      <th>movie_id</th>\n",
       "      <th>rating</th>\n",
       "      <th>timestamp</th>\n",
       "    </tr>\n",
       "  </thead>\n",
       "  <tbody>\n",
       "    <tr>\n",
       "      <th>0</th>\n",
       "      <td>196</td>\n",
       "      <td>242</td>\n",
       "      <td>3</td>\n",
       "      <td>1970-01-01 00:00:00.881250949</td>\n",
       "    </tr>\n",
       "    <tr>\n",
       "      <th>1</th>\n",
       "      <td>186</td>\n",
       "      <td>302</td>\n",
       "      <td>3</td>\n",
       "      <td>1970-01-01 00:00:00.891717742</td>\n",
       "    </tr>\n",
       "    <tr>\n",
       "      <th>2</th>\n",
       "      <td>22</td>\n",
       "      <td>377</td>\n",
       "      <td>1</td>\n",
       "      <td>1970-01-01 00:00:00.878887116</td>\n",
       "    </tr>\n",
       "    <tr>\n",
       "      <th>3</th>\n",
       "      <td>244</td>\n",
       "      <td>51</td>\n",
       "      <td>2</td>\n",
       "      <td>1970-01-01 00:00:00.880606923</td>\n",
       "    </tr>\n",
       "    <tr>\n",
       "      <th>4</th>\n",
       "      <td>166</td>\n",
       "      <td>346</td>\n",
       "      <td>1</td>\n",
       "      <td>1970-01-01 00:00:00.886397596</td>\n",
       "    </tr>\n",
       "    <tr>\n",
       "      <th>5</th>\n",
       "      <td>298</td>\n",
       "      <td>474</td>\n",
       "      <td>4</td>\n",
       "      <td>1970-01-01 00:00:00.884182806</td>\n",
       "    </tr>\n",
       "    <tr>\n",
       "      <th>6</th>\n",
       "      <td>115</td>\n",
       "      <td>265</td>\n",
       "      <td>2</td>\n",
       "      <td>1970-01-01 00:00:00.881171488</td>\n",
       "    </tr>\n",
       "    <tr>\n",
       "      <th>7</th>\n",
       "      <td>253</td>\n",
       "      <td>465</td>\n",
       "      <td>5</td>\n",
       "      <td>1970-01-01 00:00:00.891628467</td>\n",
       "    </tr>\n",
       "    <tr>\n",
       "      <th>8</th>\n",
       "      <td>305</td>\n",
       "      <td>451</td>\n",
       "      <td>3</td>\n",
       "      <td>1970-01-01 00:00:00.886324817</td>\n",
       "    </tr>\n",
       "    <tr>\n",
       "      <th>9</th>\n",
       "      <td>6</td>\n",
       "      <td>86</td>\n",
       "      <td>3</td>\n",
       "      <td>1970-01-01 00:00:00.883603013</td>\n",
       "    </tr>\n",
       "  </tbody>\n",
       "</table>\n",
       "</div>"
      ]
     },
     "execution_count": 473,
     "metadata": {},
     "output_type": "execute_result"
    }
   ],
   "execution_count": 473
  },
  {
   "cell_type": "code",
   "source": [
    "# movies\n",
    "movies.loc[0:9]"
   ],
   "metadata": {
    "id": "AzuqiRkrCdfZ",
    "ExecuteTime": {
     "end_time": "2025-04-15T15:43:45.846663Z",
     "start_time": "2025-04-15T15:43:45.840527Z"
    }
   },
   "outputs": [
    {
     "data": {
      "text/plain": [
       "   movie_id                                              title release_date\n",
       "0         1                                   Toy Story (1995)  01-Jan-1995\n",
       "1         2                                   GoldenEye (1995)  01-Jan-1995\n",
       "2         3                                  Four Rooms (1995)  01-Jan-1995\n",
       "3         4                                  Get Shorty (1995)  01-Jan-1995\n",
       "4         5                                     Copycat (1995)  01-Jan-1995\n",
       "5         6  Shanghai Triad (Yao a yao yao dao waipo qiao) ...  01-Jan-1995\n",
       "6         7                              Twelve Monkeys (1995)  01-Jan-1995\n",
       "7         8                                        Babe (1995)  01-Jan-1995\n",
       "8         9                            Dead Man Walking (1995)  01-Jan-1995\n",
       "9        10                                 Richard III (1995)  22-Jan-1996"
      ],
      "text/html": [
       "<div>\n",
       "<style scoped>\n",
       "    .dataframe tbody tr th:only-of-type {\n",
       "        vertical-align: middle;\n",
       "    }\n",
       "\n",
       "    .dataframe tbody tr th {\n",
       "        vertical-align: top;\n",
       "    }\n",
       "\n",
       "    .dataframe thead th {\n",
       "        text-align: right;\n",
       "    }\n",
       "</style>\n",
       "<table border=\"1\" class=\"dataframe\">\n",
       "  <thead>\n",
       "    <tr style=\"text-align: right;\">\n",
       "      <th></th>\n",
       "      <th>movie_id</th>\n",
       "      <th>title</th>\n",
       "      <th>release_date</th>\n",
       "    </tr>\n",
       "  </thead>\n",
       "  <tbody>\n",
       "    <tr>\n",
       "      <th>0</th>\n",
       "      <td>1</td>\n",
       "      <td>Toy Story (1995)</td>\n",
       "      <td>01-Jan-1995</td>\n",
       "    </tr>\n",
       "    <tr>\n",
       "      <th>1</th>\n",
       "      <td>2</td>\n",
       "      <td>GoldenEye (1995)</td>\n",
       "      <td>01-Jan-1995</td>\n",
       "    </tr>\n",
       "    <tr>\n",
       "      <th>2</th>\n",
       "      <td>3</td>\n",
       "      <td>Four Rooms (1995)</td>\n",
       "      <td>01-Jan-1995</td>\n",
       "    </tr>\n",
       "    <tr>\n",
       "      <th>3</th>\n",
       "      <td>4</td>\n",
       "      <td>Get Shorty (1995)</td>\n",
       "      <td>01-Jan-1995</td>\n",
       "    </tr>\n",
       "    <tr>\n",
       "      <th>4</th>\n",
       "      <td>5</td>\n",
       "      <td>Copycat (1995)</td>\n",
       "      <td>01-Jan-1995</td>\n",
       "    </tr>\n",
       "    <tr>\n",
       "      <th>5</th>\n",
       "      <td>6</td>\n",
       "      <td>Shanghai Triad (Yao a yao yao dao waipo qiao) ...</td>\n",
       "      <td>01-Jan-1995</td>\n",
       "    </tr>\n",
       "    <tr>\n",
       "      <th>6</th>\n",
       "      <td>7</td>\n",
       "      <td>Twelve Monkeys (1995)</td>\n",
       "      <td>01-Jan-1995</td>\n",
       "    </tr>\n",
       "    <tr>\n",
       "      <th>7</th>\n",
       "      <td>8</td>\n",
       "      <td>Babe (1995)</td>\n",
       "      <td>01-Jan-1995</td>\n",
       "    </tr>\n",
       "    <tr>\n",
       "      <th>8</th>\n",
       "      <td>9</td>\n",
       "      <td>Dead Man Walking (1995)</td>\n",
       "      <td>01-Jan-1995</td>\n",
       "    </tr>\n",
       "    <tr>\n",
       "      <th>9</th>\n",
       "      <td>10</td>\n",
       "      <td>Richard III (1995)</td>\n",
       "      <td>22-Jan-1996</td>\n",
       "    </tr>\n",
       "  </tbody>\n",
       "</table>\n",
       "</div>"
      ]
     },
     "execution_count": 265,
     "metadata": {},
     "output_type": "execute_result"
    }
   ],
   "execution_count": 265
  },
  {
   "cell_type": "code",
   "source": [
    "# users\n",
    "users.loc[0:9]"
   ],
   "metadata": {
    "id": "FE9hcM9mCewe",
    "ExecuteTime": {
     "end_time": "2025-04-15T21:00:39.550590Z",
     "start_time": "2025-04-15T21:00:39.544591Z"
    }
   },
   "outputs": [
    {
     "data": {
      "text/plain": [
       "   user_id age   gender occupation\n",
       "0        7   M  student      55436\n",
       "1       10   M  student      77459\n",
       "2       11   M     none      94619\n",
       "3       13   M  student      83702\n",
       "4       13   F  student      55106\n",
       "5       13   M    other      48118\n",
       "6       13   M     none      94306\n",
       "7       13   F  student      55337\n",
       "8       14   F  student      02136\n",
       "9       14   F  student      53115"
      ],
      "text/html": [
       "<div>\n",
       "<style scoped>\n",
       "    .dataframe tbody tr th:only-of-type {\n",
       "        vertical-align: middle;\n",
       "    }\n",
       "\n",
       "    .dataframe tbody tr th {\n",
       "        vertical-align: top;\n",
       "    }\n",
       "\n",
       "    .dataframe thead th {\n",
       "        text-align: right;\n",
       "    }\n",
       "</style>\n",
       "<table border=\"1\" class=\"dataframe\">\n",
       "  <thead>\n",
       "    <tr style=\"text-align: right;\">\n",
       "      <th></th>\n",
       "      <th>user_id</th>\n",
       "      <th>age</th>\n",
       "      <th>gender</th>\n",
       "      <th>occupation</th>\n",
       "    </tr>\n",
       "  </thead>\n",
       "  <tbody>\n",
       "    <tr>\n",
       "      <th>0</th>\n",
       "      <td>7</td>\n",
       "      <td>M</td>\n",
       "      <td>student</td>\n",
       "      <td>55436</td>\n",
       "    </tr>\n",
       "    <tr>\n",
       "      <th>1</th>\n",
       "      <td>10</td>\n",
       "      <td>M</td>\n",
       "      <td>student</td>\n",
       "      <td>77459</td>\n",
       "    </tr>\n",
       "    <tr>\n",
       "      <th>2</th>\n",
       "      <td>11</td>\n",
       "      <td>M</td>\n",
       "      <td>none</td>\n",
       "      <td>94619</td>\n",
       "    </tr>\n",
       "    <tr>\n",
       "      <th>3</th>\n",
       "      <td>13</td>\n",
       "      <td>M</td>\n",
       "      <td>student</td>\n",
       "      <td>83702</td>\n",
       "    </tr>\n",
       "    <tr>\n",
       "      <th>4</th>\n",
       "      <td>13</td>\n",
       "      <td>F</td>\n",
       "      <td>student</td>\n",
       "      <td>55106</td>\n",
       "    </tr>\n",
       "    <tr>\n",
       "      <th>5</th>\n",
       "      <td>13</td>\n",
       "      <td>M</td>\n",
       "      <td>other</td>\n",
       "      <td>48118</td>\n",
       "    </tr>\n",
       "    <tr>\n",
       "      <th>6</th>\n",
       "      <td>13</td>\n",
       "      <td>M</td>\n",
       "      <td>none</td>\n",
       "      <td>94306</td>\n",
       "    </tr>\n",
       "    <tr>\n",
       "      <th>7</th>\n",
       "      <td>13</td>\n",
       "      <td>F</td>\n",
       "      <td>student</td>\n",
       "      <td>55337</td>\n",
       "    </tr>\n",
       "    <tr>\n",
       "      <th>8</th>\n",
       "      <td>14</td>\n",
       "      <td>F</td>\n",
       "      <td>student</td>\n",
       "      <td>02136</td>\n",
       "    </tr>\n",
       "    <tr>\n",
       "      <th>9</th>\n",
       "      <td>14</td>\n",
       "      <td>F</td>\n",
       "      <td>student</td>\n",
       "      <td>53115</td>\n",
       "    </tr>\n",
       "  </tbody>\n",
       "</table>\n",
       "</div>"
      ]
     },
     "execution_count": 471,
     "metadata": {},
     "output_type": "execute_result"
    }
   ],
   "execution_count": 471
  },
  {
   "cell_type": "markdown",
   "source": [
    "### Data Cleaning and Exploration with Pandas  \n",
    "\n",
    "After loading the dataset, it’s important to clean and explore the data to ensure consistency and accuracy. Below are key **pandas** functions for cleaning and understanding the dataset.\n",
    "\n",
    "#### 1. Handle Missing Values  \n",
    "- `df.dropna()` – Removes rows with missing values.  \n",
    "- `df.fillna(value)` – Fills missing values with a specified value.  \n",
    "\n",
    "#### 2. Remove Duplicates  \n",
    "- `df.drop_duplicates()` – Drops duplicate rows from the dataset.  \n",
    "\n",
    "#### 3. Handle Incorrect Data Types  \n",
    "- `df.astype(dtype)` – Converts columns to the appropriate data type.  \n",
    "\n",
    "#### 4. Filter Outliers (if applicable)  \n",
    "- `df[df['column_name'] > threshold]` – Filters rows based on a condition.  \n",
    "\n",
    "#### 5. Rename Columns (if needed)  \n",
    "- `df.rename(columns={'old_name': 'new_name'})` – Renames columns for clarity.  \n",
    "\n",
    "#### 6. Reset Index  \n",
    "- `df.reset_index(drop=True, inplace=True)` – Resets the index after cleaning.  \n",
    "\n",
    "### Data Exploration Functions  \n",
    "\n",
    "To better understand the dataset, use these **pandas** functions:  \n",
    "\n",
    "- `df.shape` – Returns the number of rows and columns in the dataset.  \n",
    "- `df.nunique()` – Displays the number of unique values in each column.  \n",
    "- `df['column_name'].unique()` – Returns unique values in a specific column.  \n",
    "\n",
    "**Example Usage in Pandas:**  \n",
    "```python\n",
    "import pandas as pd\n",
    "\n",
    "# Load dataset\n",
    "df = pd.read_csv(\"your_file.csv\")\n",
    "\n",
    "# Drop missing values\n",
    "df_cleaned = df.dropna()\n",
    "\n",
    "# Remove duplicate rows\n",
    "df_cleaned = df_cleaned.drop_duplicates()\n",
    "\n",
    "# Convert 'timestamp' column to datetime format\n",
    "df_cleaned['timestamp'] = pd.to_datetime(df_cleaned['timestamp'])\n",
    "\n",
    "# Display dataset shape\n",
    "print(\"Dataset shape:\", df_cleaned.shape)\n",
    "\n",
    "# Display number of unique values in each column\n",
    "print(\"Unique values per column:\\n\", df_cleaned.nunique())\n",
    "\n",
    "# Display unique movie IDs\n",
    "print(\"Unique movie IDs:\", df_cleaned['movie_id'].unique()[:10])  # Show first 10 unique movie IDs\n"
   ],
   "metadata": {
    "id": "i38iDIz-DiVj"
   }
  },
  {
   "cell_type": "markdown",
   "source": [
    "**Note:** The functions mentioned above are some of the widely used **pandas** functions for data cleaning and exploration. However, it is not necessary that all of these functions will be required in the exercises below. Use them as needed based on the dataset and the specific tasks."
   ],
   "metadata": {
    "id": "4cwmLON4EItA"
   }
  },
  {
   "cell_type": "markdown",
   "source": [
    "**Convert Timestamps into Readable dates.**"
   ],
   "metadata": {
    "id": "Tn0bLOSACxMP"
   }
  },
  {
   "cell_type": "code",
   "source": [
    "# ratings\n",
    "ratings[\"timestamp\"] = pandas.to_datetime(ratings[\"timestamp\"])"
   ],
   "metadata": {
    "id": "9MwnDxeeCf8b",
    "ExecuteTime": {
     "end_time": "2025-04-15T15:43:46.034543Z",
     "start_time": "2025-04-15T15:43:46.010163Z"
    }
   },
   "outputs": [],
   "execution_count": 267
  },
  {
   "cell_type": "markdown",
   "source": [
    "**Check for Missing Values**"
   ],
   "metadata": {
    "id": "oKJB0a9CE0Z4"
   }
  },
  {
   "cell_type": "code",
   "source": [
    "# ratings\n",
    "ratings = ratings.dropna() # removes missing values\n",
    "ratings.reset_index(drop=True, inplace=True)"
   ],
   "metadata": {
    "id": "iYf4NM47DL7q",
    "ExecuteTime": {
     "end_time": "2025-04-15T16:55:50.464435Z",
     "start_time": "2025-04-15T16:55:50.460569Z"
    }
   },
   "outputs": [],
   "execution_count": 387
  },
  {
   "cell_type": "code",
   "source": [
    "# movies\n",
    "movies = movies.dropna() # removes missing values\n",
    "\n",
    "movies.reset_index(drop=True, inplace=True)"
   ],
   "metadata": {
    "id": "hgM78fNaFH2q",
    "ExecuteTime": {
     "end_time": "2025-04-15T16:55:51.252507Z",
     "start_time": "2025-04-15T16:55:51.248474Z"
    }
   },
   "outputs": [],
   "execution_count": 388
  },
  {
   "cell_type": "code",
   "source": [
    "# users\n",
    "users = users.dropna() # removes missing values\n",
    "users.reset_index(drop=True, inplace=True)"
   ],
   "metadata": {
    "id": "jE8J_cajFA5n",
    "ExecuteTime": {
     "end_time": "2025-04-15T16:55:52.038750Z",
     "start_time": "2025-04-15T16:55:52.035750Z"
    }
   },
   "outputs": [],
   "execution_count": 389
  },
  {
   "cell_type": "markdown",
   "source": [
    "**Print the total number of users, movies, and ratings.**"
   ],
   "metadata": {
    "id": "1WviFe7iFRoQ"
   }
  },
  {
   "cell_type": "code",
   "source": [
    "print(f\"Total Users (Unqiue): { len(users['user_id'].unique()) }\") #assumes each user has a unique user_id\n",
    "print(f\"Total Users: { len(users) }\") # if user_id is not unique\n",
    "print(f\"Total Movies: { len(movies) }\")\n",
    "print(f\"Total Ratings: { len(ratings) }\")"
   ],
   "metadata": {
    "id": "eR_QgS9aFTPb",
    "ExecuteTime": {
     "end_time": "2025-04-15T22:35:44.446136Z",
     "start_time": "2025-04-15T22:35:44.442192Z"
    }
   },
   "outputs": [
    {
     "name": "stdout",
     "output_type": "stream",
     "text": [
      "Total Users (Unqiue): 61\n",
      "Total Users: 936\n",
      "Total Movies: 1681\n",
      "Total Ratings: 100000\n"
     ]
    }
   ],
   "execution_count": 537
  },
  {
   "cell_type": "markdown",
   "source": [
    "## **Part 2: Collaborative Filtering-Based Recommendation**"
   ],
   "metadata": {
    "id": "NjxACjUgFwsk"
   }
  },
  {
   "cell_type": "markdown",
   "source": [
    "### **Create a User-Item Matrix**"
   ],
   "metadata": {
    "id": "AyeSaLpRGYuC"
   }
  },
  {
   "cell_type": "markdown",
   "source": [
    "#### Instructions for Creating a User-Movie Rating Matrix"
   ],
   "metadata": {
    "id": "3tKsv-7XHRq2"
   }
  },
  {
   "cell_type": "markdown",
   "source": [
    "In this exercise, you will create a user-movie rating matrix using **pandas**. This matrix will represent the ratings that users have given to different movies.\n",
    "\n",
    "1. **Dataset Overview**:  \n",
    "   The dataset has already been loaded. It includes the following key columns:\n",
    "   - `user_id`: The ID of the user.\n",
    "   - `movie_id`: The ID of the movie.\n",
    "   - `ratings`: The rating the user gave to the movie.\n",
    "\n",
    "2. **Create the User-Movie Rating Matrix**:  \n",
    "   Use the **`pivot()`** function in **pandas** to reshape the data. Your goal is to create a matrix where:\n",
    "   - Each **row** represents a **user**.\n",
    "   - Each **column** represents a **movie**.\n",
    "   - Each **cell** contains the **rating** that the user has given to the movie.\n",
    "\n",
    "   Specify the following parameters for the `pivot()` function:\n",
    "   - **`index`**: The `user_id` column (this will define the rows).\n",
    "   - **`columns`**: The `movie_id` column (this will define the columns).\n",
    "   - **`values`**: The `rating` column (this will fill the matrix with ratings).\n",
    "\n",
    "3. **Inspect the Matrix**:  \n",
    "   After creating the matrix, examine the first few rows of the resulting matrix to ensure it has been constructed correctly.\n",
    "\n",
    "4. **Handle Missing Values**:  \n",
    "   It's likely that some users have not rated every movie, resulting in `NaN` values in the matrix. You will need to handle these missing values. Consider the following options:\n",
    "   - **Fill with 0**: If you wish to represent missing ratings as zeros (indicating no rating).\n",
    "   - **Fill with the average rating**: Alternatively, replace missing values with the average rating for each movie."
   ],
   "metadata": {
    "id": "lLayr0YbH4tB"
   }
  },
  {
   "cell_type": "markdown",
   "source": [
    "**Create the user-movie rating matrix using the `pivot()` function.**"
   ],
   "metadata": {
    "id": "E_cdPXYeaD-l"
   }
  },
  {
   "cell_type": "code",
   "source": [
    "user_movie_matrix = ratings.pivot(index=\"user_id\", columns=\"movie_id\", values=\"rating\")\n",
    "#user_movie_matrix.fillna(0, inplace=True)"
   ],
   "metadata": {
    "id": "Ie858yKEUSfc",
    "ExecuteTime": {
     "end_time": "2025-04-15T15:43:46.666622Z",
     "start_time": "2025-04-15T15:43:46.646676Z"
    }
   },
   "outputs": [],
   "execution_count": 272
  },
  {
   "cell_type": "markdown",
   "source": [
    "**Display the matrix to verify the transformation.**"
   ],
   "metadata": {
    "id": "tyb3h9FmaVGH"
   }
  },
  {
   "cell_type": "code",
   "source": "user_movie_matrix",
   "metadata": {
    "id": "16abaOrXabN_",
    "ExecuteTime": {
     "end_time": "2025-04-15T15:43:46.733135Z",
     "start_time": "2025-04-15T15:43:46.720139Z"
    }
   },
   "outputs": [
    {
     "data": {
      "text/plain": [
       "movie_id  1     2     3     4     5     6     7     8     9     10    ...  \\\n",
       "user_id                                                               ...   \n",
       "1          5.0   3.0   4.0   3.0   3.0   5.0   4.0   1.0   5.0   3.0  ...   \n",
       "2          4.0   NaN   NaN   NaN   NaN   NaN   NaN   NaN   NaN   2.0  ...   \n",
       "3          NaN   NaN   NaN   NaN   NaN   NaN   NaN   NaN   NaN   NaN  ...   \n",
       "4          NaN   NaN   NaN   NaN   NaN   NaN   NaN   NaN   NaN   NaN  ...   \n",
       "5          4.0   3.0   NaN   NaN   NaN   NaN   NaN   NaN   NaN   NaN  ...   \n",
       "...        ...   ...   ...   ...   ...   ...   ...   ...   ...   ...  ...   \n",
       "939        NaN   NaN   NaN   NaN   NaN   NaN   NaN   NaN   5.0   NaN  ...   \n",
       "940        NaN   NaN   NaN   2.0   NaN   NaN   4.0   5.0   3.0   NaN  ...   \n",
       "941        5.0   NaN   NaN   NaN   NaN   NaN   4.0   NaN   NaN   NaN  ...   \n",
       "942        NaN   NaN   NaN   NaN   NaN   NaN   NaN   NaN   NaN   NaN  ...   \n",
       "943        NaN   5.0   NaN   NaN   NaN   NaN   NaN   NaN   3.0   NaN  ...   \n",
       "\n",
       "movie_id  1673  1674  1675  1676  1677  1678  1679  1680  1681  1682  \n",
       "user_id                                                               \n",
       "1          NaN   NaN   NaN   NaN   NaN   NaN   NaN   NaN   NaN   NaN  \n",
       "2          NaN   NaN   NaN   NaN   NaN   NaN   NaN   NaN   NaN   NaN  \n",
       "3          NaN   NaN   NaN   NaN   NaN   NaN   NaN   NaN   NaN   NaN  \n",
       "4          NaN   NaN   NaN   NaN   NaN   NaN   NaN   NaN   NaN   NaN  \n",
       "5          NaN   NaN   NaN   NaN   NaN   NaN   NaN   NaN   NaN   NaN  \n",
       "...        ...   ...   ...   ...   ...   ...   ...   ...   ...   ...  \n",
       "939        NaN   NaN   NaN   NaN   NaN   NaN   NaN   NaN   NaN   NaN  \n",
       "940        NaN   NaN   NaN   NaN   NaN   NaN   NaN   NaN   NaN   NaN  \n",
       "941        NaN   NaN   NaN   NaN   NaN   NaN   NaN   NaN   NaN   NaN  \n",
       "942        NaN   NaN   NaN   NaN   NaN   NaN   NaN   NaN   NaN   NaN  \n",
       "943        NaN   NaN   NaN   NaN   NaN   NaN   NaN   NaN   NaN   NaN  \n",
       "\n",
       "[943 rows x 1682 columns]"
      ],
      "text/html": [
       "<div>\n",
       "<style scoped>\n",
       "    .dataframe tbody tr th:only-of-type {\n",
       "        vertical-align: middle;\n",
       "    }\n",
       "\n",
       "    .dataframe tbody tr th {\n",
       "        vertical-align: top;\n",
       "    }\n",
       "\n",
       "    .dataframe thead th {\n",
       "        text-align: right;\n",
       "    }\n",
       "</style>\n",
       "<table border=\"1\" class=\"dataframe\">\n",
       "  <thead>\n",
       "    <tr style=\"text-align: right;\">\n",
       "      <th>movie_id</th>\n",
       "      <th>1</th>\n",
       "      <th>2</th>\n",
       "      <th>3</th>\n",
       "      <th>4</th>\n",
       "      <th>5</th>\n",
       "      <th>6</th>\n",
       "      <th>7</th>\n",
       "      <th>8</th>\n",
       "      <th>9</th>\n",
       "      <th>10</th>\n",
       "      <th>...</th>\n",
       "      <th>1673</th>\n",
       "      <th>1674</th>\n",
       "      <th>1675</th>\n",
       "      <th>1676</th>\n",
       "      <th>1677</th>\n",
       "      <th>1678</th>\n",
       "      <th>1679</th>\n",
       "      <th>1680</th>\n",
       "      <th>1681</th>\n",
       "      <th>1682</th>\n",
       "    </tr>\n",
       "    <tr>\n",
       "      <th>user_id</th>\n",
       "      <th></th>\n",
       "      <th></th>\n",
       "      <th></th>\n",
       "      <th></th>\n",
       "      <th></th>\n",
       "      <th></th>\n",
       "      <th></th>\n",
       "      <th></th>\n",
       "      <th></th>\n",
       "      <th></th>\n",
       "      <th></th>\n",
       "      <th></th>\n",
       "      <th></th>\n",
       "      <th></th>\n",
       "      <th></th>\n",
       "      <th></th>\n",
       "      <th></th>\n",
       "      <th></th>\n",
       "      <th></th>\n",
       "      <th></th>\n",
       "      <th></th>\n",
       "    </tr>\n",
       "  </thead>\n",
       "  <tbody>\n",
       "    <tr>\n",
       "      <th>1</th>\n",
       "      <td>5.0</td>\n",
       "      <td>3.0</td>\n",
       "      <td>4.0</td>\n",
       "      <td>3.0</td>\n",
       "      <td>3.0</td>\n",
       "      <td>5.0</td>\n",
       "      <td>4.0</td>\n",
       "      <td>1.0</td>\n",
       "      <td>5.0</td>\n",
       "      <td>3.0</td>\n",
       "      <td>...</td>\n",
       "      <td>NaN</td>\n",
       "      <td>NaN</td>\n",
       "      <td>NaN</td>\n",
       "      <td>NaN</td>\n",
       "      <td>NaN</td>\n",
       "      <td>NaN</td>\n",
       "      <td>NaN</td>\n",
       "      <td>NaN</td>\n",
       "      <td>NaN</td>\n",
       "      <td>NaN</td>\n",
       "    </tr>\n",
       "    <tr>\n",
       "      <th>2</th>\n",
       "      <td>4.0</td>\n",
       "      <td>NaN</td>\n",
       "      <td>NaN</td>\n",
       "      <td>NaN</td>\n",
       "      <td>NaN</td>\n",
       "      <td>NaN</td>\n",
       "      <td>NaN</td>\n",
       "      <td>NaN</td>\n",
       "      <td>NaN</td>\n",
       "      <td>2.0</td>\n",
       "      <td>...</td>\n",
       "      <td>NaN</td>\n",
       "      <td>NaN</td>\n",
       "      <td>NaN</td>\n",
       "      <td>NaN</td>\n",
       "      <td>NaN</td>\n",
       "      <td>NaN</td>\n",
       "      <td>NaN</td>\n",
       "      <td>NaN</td>\n",
       "      <td>NaN</td>\n",
       "      <td>NaN</td>\n",
       "    </tr>\n",
       "    <tr>\n",
       "      <th>3</th>\n",
       "      <td>NaN</td>\n",
       "      <td>NaN</td>\n",
       "      <td>NaN</td>\n",
       "      <td>NaN</td>\n",
       "      <td>NaN</td>\n",
       "      <td>NaN</td>\n",
       "      <td>NaN</td>\n",
       "      <td>NaN</td>\n",
       "      <td>NaN</td>\n",
       "      <td>NaN</td>\n",
       "      <td>...</td>\n",
       "      <td>NaN</td>\n",
       "      <td>NaN</td>\n",
       "      <td>NaN</td>\n",
       "      <td>NaN</td>\n",
       "      <td>NaN</td>\n",
       "      <td>NaN</td>\n",
       "      <td>NaN</td>\n",
       "      <td>NaN</td>\n",
       "      <td>NaN</td>\n",
       "      <td>NaN</td>\n",
       "    </tr>\n",
       "    <tr>\n",
       "      <th>4</th>\n",
       "      <td>NaN</td>\n",
       "      <td>NaN</td>\n",
       "      <td>NaN</td>\n",
       "      <td>NaN</td>\n",
       "      <td>NaN</td>\n",
       "      <td>NaN</td>\n",
       "      <td>NaN</td>\n",
       "      <td>NaN</td>\n",
       "      <td>NaN</td>\n",
       "      <td>NaN</td>\n",
       "      <td>...</td>\n",
       "      <td>NaN</td>\n",
       "      <td>NaN</td>\n",
       "      <td>NaN</td>\n",
       "      <td>NaN</td>\n",
       "      <td>NaN</td>\n",
       "      <td>NaN</td>\n",
       "      <td>NaN</td>\n",
       "      <td>NaN</td>\n",
       "      <td>NaN</td>\n",
       "      <td>NaN</td>\n",
       "    </tr>\n",
       "    <tr>\n",
       "      <th>5</th>\n",
       "      <td>4.0</td>\n",
       "      <td>3.0</td>\n",
       "      <td>NaN</td>\n",
       "      <td>NaN</td>\n",
       "      <td>NaN</td>\n",
       "      <td>NaN</td>\n",
       "      <td>NaN</td>\n",
       "      <td>NaN</td>\n",
       "      <td>NaN</td>\n",
       "      <td>NaN</td>\n",
       "      <td>...</td>\n",
       "      <td>NaN</td>\n",
       "      <td>NaN</td>\n",
       "      <td>NaN</td>\n",
       "      <td>NaN</td>\n",
       "      <td>NaN</td>\n",
       "      <td>NaN</td>\n",
       "      <td>NaN</td>\n",
       "      <td>NaN</td>\n",
       "      <td>NaN</td>\n",
       "      <td>NaN</td>\n",
       "    </tr>\n",
       "    <tr>\n",
       "      <th>...</th>\n",
       "      <td>...</td>\n",
       "      <td>...</td>\n",
       "      <td>...</td>\n",
       "      <td>...</td>\n",
       "      <td>...</td>\n",
       "      <td>...</td>\n",
       "      <td>...</td>\n",
       "      <td>...</td>\n",
       "      <td>...</td>\n",
       "      <td>...</td>\n",
       "      <td>...</td>\n",
       "      <td>...</td>\n",
       "      <td>...</td>\n",
       "      <td>...</td>\n",
       "      <td>...</td>\n",
       "      <td>...</td>\n",
       "      <td>...</td>\n",
       "      <td>...</td>\n",
       "      <td>...</td>\n",
       "      <td>...</td>\n",
       "      <td>...</td>\n",
       "    </tr>\n",
       "    <tr>\n",
       "      <th>939</th>\n",
       "      <td>NaN</td>\n",
       "      <td>NaN</td>\n",
       "      <td>NaN</td>\n",
       "      <td>NaN</td>\n",
       "      <td>NaN</td>\n",
       "      <td>NaN</td>\n",
       "      <td>NaN</td>\n",
       "      <td>NaN</td>\n",
       "      <td>5.0</td>\n",
       "      <td>NaN</td>\n",
       "      <td>...</td>\n",
       "      <td>NaN</td>\n",
       "      <td>NaN</td>\n",
       "      <td>NaN</td>\n",
       "      <td>NaN</td>\n",
       "      <td>NaN</td>\n",
       "      <td>NaN</td>\n",
       "      <td>NaN</td>\n",
       "      <td>NaN</td>\n",
       "      <td>NaN</td>\n",
       "      <td>NaN</td>\n",
       "    </tr>\n",
       "    <tr>\n",
       "      <th>940</th>\n",
       "      <td>NaN</td>\n",
       "      <td>NaN</td>\n",
       "      <td>NaN</td>\n",
       "      <td>2.0</td>\n",
       "      <td>NaN</td>\n",
       "      <td>NaN</td>\n",
       "      <td>4.0</td>\n",
       "      <td>5.0</td>\n",
       "      <td>3.0</td>\n",
       "      <td>NaN</td>\n",
       "      <td>...</td>\n",
       "      <td>NaN</td>\n",
       "      <td>NaN</td>\n",
       "      <td>NaN</td>\n",
       "      <td>NaN</td>\n",
       "      <td>NaN</td>\n",
       "      <td>NaN</td>\n",
       "      <td>NaN</td>\n",
       "      <td>NaN</td>\n",
       "      <td>NaN</td>\n",
       "      <td>NaN</td>\n",
       "    </tr>\n",
       "    <tr>\n",
       "      <th>941</th>\n",
       "      <td>5.0</td>\n",
       "      <td>NaN</td>\n",
       "      <td>NaN</td>\n",
       "      <td>NaN</td>\n",
       "      <td>NaN</td>\n",
       "      <td>NaN</td>\n",
       "      <td>4.0</td>\n",
       "      <td>NaN</td>\n",
       "      <td>NaN</td>\n",
       "      <td>NaN</td>\n",
       "      <td>...</td>\n",
       "      <td>NaN</td>\n",
       "      <td>NaN</td>\n",
       "      <td>NaN</td>\n",
       "      <td>NaN</td>\n",
       "      <td>NaN</td>\n",
       "      <td>NaN</td>\n",
       "      <td>NaN</td>\n",
       "      <td>NaN</td>\n",
       "      <td>NaN</td>\n",
       "      <td>NaN</td>\n",
       "    </tr>\n",
       "    <tr>\n",
       "      <th>942</th>\n",
       "      <td>NaN</td>\n",
       "      <td>NaN</td>\n",
       "      <td>NaN</td>\n",
       "      <td>NaN</td>\n",
       "      <td>NaN</td>\n",
       "      <td>NaN</td>\n",
       "      <td>NaN</td>\n",
       "      <td>NaN</td>\n",
       "      <td>NaN</td>\n",
       "      <td>NaN</td>\n",
       "      <td>...</td>\n",
       "      <td>NaN</td>\n",
       "      <td>NaN</td>\n",
       "      <td>NaN</td>\n",
       "      <td>NaN</td>\n",
       "      <td>NaN</td>\n",
       "      <td>NaN</td>\n",
       "      <td>NaN</td>\n",
       "      <td>NaN</td>\n",
       "      <td>NaN</td>\n",
       "      <td>NaN</td>\n",
       "    </tr>\n",
       "    <tr>\n",
       "      <th>943</th>\n",
       "      <td>NaN</td>\n",
       "      <td>5.0</td>\n",
       "      <td>NaN</td>\n",
       "      <td>NaN</td>\n",
       "      <td>NaN</td>\n",
       "      <td>NaN</td>\n",
       "      <td>NaN</td>\n",
       "      <td>NaN</td>\n",
       "      <td>3.0</td>\n",
       "      <td>NaN</td>\n",
       "      <td>...</td>\n",
       "      <td>NaN</td>\n",
       "      <td>NaN</td>\n",
       "      <td>NaN</td>\n",
       "      <td>NaN</td>\n",
       "      <td>NaN</td>\n",
       "      <td>NaN</td>\n",
       "      <td>NaN</td>\n",
       "      <td>NaN</td>\n",
       "      <td>NaN</td>\n",
       "      <td>NaN</td>\n",
       "    </tr>\n",
       "  </tbody>\n",
       "</table>\n",
       "<p>943 rows × 1682 columns</p>\n",
       "</div>"
      ]
     },
     "execution_count": 273,
     "metadata": {},
     "output_type": "execute_result"
    }
   ],
   "execution_count": 273
  },
  {
   "metadata": {
    "ExecuteTime": {
     "end_time": "2025-04-15T15:43:46.887042Z",
     "start_time": "2025-04-15T15:43:46.878908Z"
    }
   },
   "cell_type": "code",
   "source": "user_movie_matrix[user_movie_matrix.index == 1]",
   "outputs": [
    {
     "data": {
      "text/plain": [
       "movie_id  1     2     3     4     5     6     7     8     9     10    ...  \\\n",
       "user_id                                                               ...   \n",
       "1          5.0   3.0   4.0   3.0   3.0   5.0   4.0   1.0   5.0   3.0  ...   \n",
       "\n",
       "movie_id  1673  1674  1675  1676  1677  1678  1679  1680  1681  1682  \n",
       "user_id                                                               \n",
       "1          NaN   NaN   NaN   NaN   NaN   NaN   NaN   NaN   NaN   NaN  \n",
       "\n",
       "[1 rows x 1682 columns]"
      ],
      "text/html": [
       "<div>\n",
       "<style scoped>\n",
       "    .dataframe tbody tr th:only-of-type {\n",
       "        vertical-align: middle;\n",
       "    }\n",
       "\n",
       "    .dataframe tbody tr th {\n",
       "        vertical-align: top;\n",
       "    }\n",
       "\n",
       "    .dataframe thead th {\n",
       "        text-align: right;\n",
       "    }\n",
       "</style>\n",
       "<table border=\"1\" class=\"dataframe\">\n",
       "  <thead>\n",
       "    <tr style=\"text-align: right;\">\n",
       "      <th>movie_id</th>\n",
       "      <th>1</th>\n",
       "      <th>2</th>\n",
       "      <th>3</th>\n",
       "      <th>4</th>\n",
       "      <th>5</th>\n",
       "      <th>6</th>\n",
       "      <th>7</th>\n",
       "      <th>8</th>\n",
       "      <th>9</th>\n",
       "      <th>10</th>\n",
       "      <th>...</th>\n",
       "      <th>1673</th>\n",
       "      <th>1674</th>\n",
       "      <th>1675</th>\n",
       "      <th>1676</th>\n",
       "      <th>1677</th>\n",
       "      <th>1678</th>\n",
       "      <th>1679</th>\n",
       "      <th>1680</th>\n",
       "      <th>1681</th>\n",
       "      <th>1682</th>\n",
       "    </tr>\n",
       "    <tr>\n",
       "      <th>user_id</th>\n",
       "      <th></th>\n",
       "      <th></th>\n",
       "      <th></th>\n",
       "      <th></th>\n",
       "      <th></th>\n",
       "      <th></th>\n",
       "      <th></th>\n",
       "      <th></th>\n",
       "      <th></th>\n",
       "      <th></th>\n",
       "      <th></th>\n",
       "      <th></th>\n",
       "      <th></th>\n",
       "      <th></th>\n",
       "      <th></th>\n",
       "      <th></th>\n",
       "      <th></th>\n",
       "      <th></th>\n",
       "      <th></th>\n",
       "      <th></th>\n",
       "      <th></th>\n",
       "    </tr>\n",
       "  </thead>\n",
       "  <tbody>\n",
       "    <tr>\n",
       "      <th>1</th>\n",
       "      <td>5.0</td>\n",
       "      <td>3.0</td>\n",
       "      <td>4.0</td>\n",
       "      <td>3.0</td>\n",
       "      <td>3.0</td>\n",
       "      <td>5.0</td>\n",
       "      <td>4.0</td>\n",
       "      <td>1.0</td>\n",
       "      <td>5.0</td>\n",
       "      <td>3.0</td>\n",
       "      <td>...</td>\n",
       "      <td>NaN</td>\n",
       "      <td>NaN</td>\n",
       "      <td>NaN</td>\n",
       "      <td>NaN</td>\n",
       "      <td>NaN</td>\n",
       "      <td>NaN</td>\n",
       "      <td>NaN</td>\n",
       "      <td>NaN</td>\n",
       "      <td>NaN</td>\n",
       "      <td>NaN</td>\n",
       "    </tr>\n",
       "  </tbody>\n",
       "</table>\n",
       "<p>1 rows × 1682 columns</p>\n",
       "</div>"
      ]
     },
     "execution_count": 274,
     "metadata": {},
     "output_type": "execute_result"
    }
   ],
   "execution_count": 274
  },
  {
   "cell_type": "markdown",
   "source": [
    "### **User-Based Collaborative Filtering Recommender System**"
   ],
   "metadata": {
    "id": "fOXp00QSbtHk"
   }
  },
  {
   "cell_type": "markdown",
   "source": [
    "#### **Objective**\n",
    "In this task, you will implement a **user-based collaborative filtering** movie recommendation system using the **Movie dataset**. The goal is to recommend movies to a user based on the preferences of similar users."
   ],
   "metadata": {
    "id": "FwKBZk5Sc7YA"
   }
  },
  {
   "cell_type": "markdown",
   "source": [
    "##### **Step 1: Import Required Libraries**\n",
    "Before starting, ensure you have the necessary libraries installed. Use the following imports:\n",
    "\n",
    "```python\n",
    "import pandas as pd  # For handling data\n",
    "import numpy as np   # For numerical computations\n",
    "from sklearn.metrics.pairwise import cosine_similarity  # For computing user similarity\n",
    "```"
   ],
   "metadata": {
    "id": "fZf-Nu2rdPHR"
   }
  },
  {
   "cell_type": "markdown",
   "source": [
    "##### **Step 2: Compute User-User Similarity**\n",
    "- We will use **cosine similarity** to measure how similar each pair of users is based on their movie ratings.\n",
    "- Since `cosine_similarity` does not handle missing values (NaN), replace them with `0` before computation."
   ],
   "metadata": {
    "id": "qzJNshMbdwyR"
   }
  },
  {
   "cell_type": "markdown",
   "source": [
    "##### **Instructions:**\n",
    "1. Fill missing values with `0` using `.fillna(0)`.\n",
    "2. Compute similarity using `cosine_similarity()`.\n",
    "3. Convert the result into a **Pandas DataFrame**, with users as both row and column labels.\n",
    "\n",
    "##### **Hint:**  \n",
    "You can achieve this using the following approach:\n",
    "\n",
    "```python\n",
    "user_similarity = cosine_similarity(user_movie_matrix.fillna(0))\n",
    "user_sim_df = pd.DataFrame(user_similarity, index=user_movie_matrix.index, columns=user_movie_matrix.index)\n",
    "```"
   ],
   "metadata": {
    "id": "pkO_XtPqd4Sw"
   }
  },
  {
   "cell_type": "markdown",
   "source": [
    "##### **Step 3: Implement the Recommendation Function**\n",
    "Now, implement the function `recommend_movies_for_user(user_id, num=5)` to recommend movies for a given user.\n",
    "\n",
    "##### **Function Inputs:**\n",
    "- `user_id`: The target user for whom we need recommendations.\n",
    "- `num`: The number of movies to recommend (default is 5).\n",
    "\n",
    "##### **Function Steps:**\n",
    "1. Find **similar users**:\n",
    "   - Retrieve the similarity scores for the given `user_id`.\n",
    "   - Sort them in **descending** order (highest similarity first).\n",
    "   - Exclude the user themselves.\n",
    "   \n",
    "2. Get the **movie ratings** from these similar users.\n",
    "\n",
    "3. Compute the **average rating** for each movie based on these users' preferences.\n",
    "\n",
    "4. Sort the movies in **descending order** based on the computed average ratings.\n",
    "\n",
    "5. Retrieve the **top `num` recommended movies**.\n",
    "\n",
    "6. Map **movie IDs** to their **titles** using the `movies` DataFrame.\n",
    "\n",
    "7. Return the results as a **Pandas DataFrame** with rankings."
   ],
   "metadata": {
    "id": "NtmluaSGeBE-"
   }
  },
  {
   "cell_type": "markdown",
   "source": [
    "##### **Step 4: Return the Final Recommendation List**\n",
    "Your function should return a **DataFrame** structured as follows:\n",
    "\n",
    "| Ranking | Movie Name |\n",
    "|---------|-----------|\n",
    "| 1       | Movie A   |\n",
    "| 2       | Movie B   |\n",
    "| 3       | Movie C   |\n",
    "| 4       | Movie D   |\n",
    "| 5       | Movie E   |\n",
    "\n",
    "##### **Hint:** Your final DataFrame should be created like this:\n",
    "```python\n",
    "result_df = pd.DataFrame({\n",
    "    'Ranking': range(1, num+1),\n",
    "    'Movie Name': movie_names     \n",
    "})\n",
    "result_df.set_index('Ranking', inplace=True)\n",
    "```\n",
    "\n",
    "#### **Example: User-Based Collaborative Filtering**\n",
    "```python\n",
    "recommend_movies_for_user(10, num = 5)\n",
    "```\n",
    "**Output:**\n",
    "```\n",
    "| Ranking | Movie Name                     |\n",
    "|---------|--------------------------------|\n",
    "| 1       | In the Company of Men (1997)   |\n",
    "| 2       | Misérables, Les (1995)         |\n",
    "| 3       | Thin Blue Line, The (1988)     |\n",
    "| 4       | Braindead (1992)               |\n",
    "| 5       | Boys, Les (1997)               |\n"
   ],
   "metadata": {
    "id": "SgO0zd8LeGJ_"
   }
  },
  {
   "cell_type": "code",
   "source": [
    "import numpy as np\n",
    "from sklearn.metrics.pairwise import cosine_similarity\n",
    "\n",
    "user_similarity = cosine_similarity(user_movie_matrix.fillna(0))\n",
    "user_sim_df = pandas.DataFrame(user_similarity, index=user_movie_matrix.index, columns=user_movie_matrix.index)\n",
    "\n",
    "def recommend_movies_for_user(user_id, num=5):\n",
    "\tsimilar_users = user_sim_df[user_id].sort_values(ascending=False)[1:] # assumes the most similar user will always be itself, and removes it\n",
    "\n",
    "\t# Any user with a smaller threshold will get dropped\n",
    "\tthreshold = 0.45\n",
    "\tsimilar_users = similar_users.drop(similar_users[similar_users < threshold].index)\n",
    "\n",
    "\t# Gets ratings of the users that survived the cut\n",
    "\tratings_of_similar_users = user_movie_matrix[user_movie_matrix.index.isin(similar_users.index) ]\n",
    "\n",
    "\t# Gets the movies the user has already rated\n",
    "\tmovies_user_has_rated = user_movie_matrix[ user_movie_matrix.index == user_id ].dropna(axis=1, how=\"any\").columns\n",
    "\n",
    "\t# Removes all the columns (movies) that the user has already rated themselves. Should slightly cut down on computation.\n",
    "\tratings_of_similar_users = ratings_of_similar_users.drop( ratings_of_similar_users[ ratings_of_similar_users.index.isin(movies_user_has_rated) ].index )\n",
    "\n",
    "\t# Calculates the straight average of users; does not use weighted average\n",
    "\taverage_ratings = ratings_of_similar_users.mean()\n",
    "\n",
    "\t# Sorts the ratings\n",
    "\taverage_ratings = average_ratings.sort_values(ascending=False)\n",
    "\n",
    "\t# Gets the top 'num' results\n",
    "\ttop_n = average_ratings[:num]\n",
    "\n",
    "\t# Gets the names of the movies\n",
    "\tmovie_names = [ movies.loc[movies[\"movie_id\"] == x, 'title'].values[0] for x in top_n.index ]\n",
    "\n",
    "\tresults_df = pandas.DataFrame(\n",
    "        {\n",
    "            \"Rankings\": range(1,num+1),\n",
    "            \"Movie Name\": movie_names\n",
    "\t\t}\n",
    "\t)\n",
    "\tresults_df.set_index([\"Rankings\"], inplace=True)\n",
    "\n",
    "\treturn results_df\n",
    "\n",
    "recommend_movies_for_user(10, 5)\n"
   ],
   "metadata": {
    "id": "rbENugJ5cUpo",
    "ExecuteTime": {
     "end_time": "2025-04-15T23:21:08.642701Z",
     "start_time": "2025-04-15T23:21:08.610295Z"
    }
   },
   "outputs": [
    {
     "data": {
      "text/plain": [
       "                                          Movie Name\n",
       "Rankings                                            \n",
       "1             World of Apu, The (Apur Sansar) (1959)\n",
       "2         Ghost in the Shell (Kokaku kidotai) (1995)\n",
       "3                                Bed of Roses (1996)\n",
       "4                           Year of the Horse (1997)\n",
       "5                             Golden Earrings (1947)"
      ],
      "text/html": [
       "<div>\n",
       "<style scoped>\n",
       "    .dataframe tbody tr th:only-of-type {\n",
       "        vertical-align: middle;\n",
       "    }\n",
       "\n",
       "    .dataframe tbody tr th {\n",
       "        vertical-align: top;\n",
       "    }\n",
       "\n",
       "    .dataframe thead th {\n",
       "        text-align: right;\n",
       "    }\n",
       "</style>\n",
       "<table border=\"1\" class=\"dataframe\">\n",
       "  <thead>\n",
       "    <tr style=\"text-align: right;\">\n",
       "      <th></th>\n",
       "      <th>Movie Name</th>\n",
       "    </tr>\n",
       "    <tr>\n",
       "      <th>Rankings</th>\n",
       "      <th></th>\n",
       "    </tr>\n",
       "  </thead>\n",
       "  <tbody>\n",
       "    <tr>\n",
       "      <th>1</th>\n",
       "      <td>World of Apu, The (Apur Sansar) (1959)</td>\n",
       "    </tr>\n",
       "    <tr>\n",
       "      <th>2</th>\n",
       "      <td>Ghost in the Shell (Kokaku kidotai) (1995)</td>\n",
       "    </tr>\n",
       "    <tr>\n",
       "      <th>3</th>\n",
       "      <td>Bed of Roses (1996)</td>\n",
       "    </tr>\n",
       "    <tr>\n",
       "      <th>4</th>\n",
       "      <td>Year of the Horse (1997)</td>\n",
       "    </tr>\n",
       "    <tr>\n",
       "      <th>5</th>\n",
       "      <td>Golden Earrings (1947)</td>\n",
       "    </tr>\n",
       "  </tbody>\n",
       "</table>\n",
       "</div>"
      ]
     },
     "execution_count": 540,
     "metadata": {},
     "output_type": "execute_result"
    }
   ],
   "execution_count": 540
  },
  {
   "cell_type": "markdown",
   "source": [
    "### **Item-Based Collaborative Filtering Recommender System**"
   ],
   "metadata": {
    "id": "MIN3XqC0eUAu"
   }
  },
  {
   "cell_type": "markdown",
   "source": [
    "#### **Objective**\n",
    "In this task, you will implement an **item-based collaborative filtering** recommendation system using the **Movie dataset**. The goal is to recommend movies similar to a given movie based on user rating patterns."
   ],
   "metadata": {
    "id": "ytqWK-4ze2aA"
   }
  },
  {
   "cell_type": "markdown",
   "source": [
    "#### **Step 1: Import Required Libraries**\n",
    "Although we have done this part already in the previous task but just to emphasize the importance reiterrating this part.\n",
    "\n",
    "Before starting, ensure you have the necessary libraries installed. Use the following imports:\n",
    "\n",
    "```python\n",
    "import pandas as pd  # For handling data\n",
    "import numpy as np   # For numerical computations\n",
    "from sklearn.metrics.pairwise import cosine_similarity  # For computing item similarity\n",
    "```"
   ],
   "metadata": {
    "id": "Q0-HuDvffY57"
   }
  },
  {
   "cell_type": "markdown",
   "source": [
    "#### **Step 2: Compute Item-Item Similarity**\n",
    "- We will use **cosine similarity** to measure how similar each pair of movies is based on their user ratings.\n",
    "- Since `cosine_similarity` does not handle missing values (NaN), replace them with `0` before computation.\n",
    "- Unlike user-based filtering, we need to **transpose** (`.T`) the `user_movie_matrix` because we want similarity between movies (columns) instead of users (rows).\n",
    "\n",
    "##### **Instructions:**\n",
    "1. Transpose the user-movie matrix using `.T` to make movies the rows.\n",
    "2. Fill missing values with `0` using `.fillna(0)`.\n",
    "3. Compute similarity using `cosine_similarity()`.\n",
    "4. Convert the result into a **Pandas DataFrame**, with movies as both row and column labels.\n",
    "\n",
    "##### **Hint:**  \n",
    "You can achieve this using the following approach:\n",
    "\n",
    "```python\n",
    "item_similarity = cosine_similarity(user_movie_matrix.T.fillna(0))\n",
    "item_sim_df = pd.DataFrame(item_similarity, index=user_movie_matrix.columns, columns=user_movie_matrix.columns)\n",
    "```"
   ],
   "metadata": {
    "id": "b9oy7pojf19r"
   }
  },
  {
   "cell_type": "markdown",
   "source": [
    "#### **Step 3: Implement the Recommendation Function**\n",
    "Now, implement the function `recommend_movies(movie_name, num=5)` to recommend movies similar to a given movie.\n",
    "\n",
    "##### **Function Inputs:**\n",
    "- `movie_name`: The target movie for which we need recommendations.\n",
    "- `num`: The number of similar movies to recommend (default is 5).\n",
    "\n",
    "##### **Function Steps:**\n",
    "1. Find the **movie_id** corresponding to the given `movie_name` in the `movies` DataFrame.\n",
    "2. If the movie is not found, return an appropriate message.\n",
    "3. Extract the **similarity scores** for this movie from `item_sim_df`.\n",
    "4. Sort the movies in **descending order** based on similarity (excluding the movie itself).\n",
    "5. Retrieve the **top `num` similar movies**.\n",
    "6. Map **movie IDs** to their **titles** using the `movies` DataFrame.\n",
    "7. Return the results as a **Pandas DataFrame** with rankings."
   ],
   "metadata": {
    "id": "L8k80idUgDWW"
   }
  },
  {
   "cell_type": "markdown",
   "source": [
    "#### **Step 4: Return the Final Recommendation List**\n",
    "Your function should return a **DataFrame** structured as follows:\n",
    "\n",
    "| Ranking | Movie Name |\n",
    "|---------|-----------|\n",
    "| 1       | Movie A   |\n",
    "| 2       | Movie B   |\n",
    "| 3       | Movie C   |\n",
    "| 4       | Movie D   |\n",
    "| 5       | Movie E   |\n",
    "\n",
    "##### **Hint:** Your final DataFrame should be created like this:\n",
    "```python\n",
    "result_df = pd.DataFrame({\n",
    "    'ranking': range(1, num+1),\n",
    "    'movie_name': movie_names\n",
    "})\n",
    "result_df.set_index('ranking', inplace=True)\n",
    "```"
   ],
   "metadata": {
    "id": "kNRZQWQkgLPf"
   }
  },
  {
   "cell_type": "markdown",
   "source": [
    "#### **Example: Item-Based Collaborative Filtering**\n",
    "```python\n",
    "recommend_movies(\"Jurassic Park (1993)\", num=5)\n",
    "```\n",
    "**Output:**\n",
    "```\n",
    "| Ranking | Movie Name                               |\n",
    "|---------|------------------------------------------|\n",
    "| 1       | Top Gun (1986)                           |\n",
    "| 2       | Empire Strikes Back, The (1980)          |\n",
    "| 3       | Raiders of the Lost Ark (1981)           |\n",
    "| 4       | Indiana Jones and the Last Crusade (1989)|\n",
    "| 5       | Speed (1994)                             |\n"
   ],
   "metadata": {
    "id": "h-EEF0Q1gd9N"
   }
  },
  {
   "cell_type": "code",
   "source": [
    "# Code the function\n",
    "import numpy as np\n",
    "from sklearn.metrics.pairwise import cosine_similarity\n",
    "\n",
    "item_similarity = cosine_similarity(user_movie_matrix.T.fillna(0))\n",
    "item_sim_df = pandas.DataFrame(item_similarity, index=user_movie_matrix.columns, columns=user_movie_matrix.columns)\n",
    "\n",
    "def recommend_movies(movie_name, num=5):\n",
    "    movie_id = movies.loc[ movies[\"title\"] == movie_name, \"movie_id\" ]\n",
    "\n",
    "    try:\n",
    "        movie_id = movie_id.values[0]\n",
    "        movie_id = int(movie_id)\n",
    "    except Exception as e:\n",
    "        print(f\"Movie Not Found. Err:{e}\")\n",
    "        return -1\n",
    "\n",
    "    similar_movies = item_sim_df.loc[ item_sim_df.index == movie_id] # Gets similarity of the movie by its id\n",
    "    similar_movies = similar_movies.T[movie_id].sort_values(ascending=False)[1:] # Sorts such that similar movies are at the top. Removes the first item as it will always be most similar to itself.\n",
    "\n",
    "    top_n = similar_movies[:num]\n",
    "\n",
    "    movie_names = [ movies.loc[movies[\"movie_id\"] == x, 'title'].values[0] for x in top_n.index ]\n",
    "\n",
    "    results_df = pandas.DataFrame(\n",
    "        {\n",
    "            \"Rankings\": range(1,num+1),\n",
    "            \"Movie Name\": movie_names\n",
    "\t\t}\n",
    "\t)\n",
    "    results_df.set_index([\"Rankings\"], inplace=True)\n",
    "\n",
    "    return results_df\n",
    "\n",
    "moviename = \"Toy Story (1995)\"\n",
    "\n",
    "recommend_movies(moviename)"
   ],
   "metadata": {
    "id": "l1K79akTebWa",
    "ExecuteTime": {
     "end_time": "2025-04-15T23:22:19.816680Z",
     "start_time": "2025-04-15T23:22:19.773551Z"
    }
   },
   "outputs": [
    {
     "data": {
      "text/plain": [
       "                             Movie Name\n",
       "Rankings                               \n",
       "1                      Star Wars (1977)\n",
       "2             Return of the Jedi (1983)\n",
       "3         Independence Day (ID4) (1996)\n",
       "4                      Rock, The (1996)\n",
       "5            Mission: Impossible (1996)"
      ],
      "text/html": [
       "<div>\n",
       "<style scoped>\n",
       "    .dataframe tbody tr th:only-of-type {\n",
       "        vertical-align: middle;\n",
       "    }\n",
       "\n",
       "    .dataframe tbody tr th {\n",
       "        vertical-align: top;\n",
       "    }\n",
       "\n",
       "    .dataframe thead th {\n",
       "        text-align: right;\n",
       "    }\n",
       "</style>\n",
       "<table border=\"1\" class=\"dataframe\">\n",
       "  <thead>\n",
       "    <tr style=\"text-align: right;\">\n",
       "      <th></th>\n",
       "      <th>Movie Name</th>\n",
       "    </tr>\n",
       "    <tr>\n",
       "      <th>Rankings</th>\n",
       "      <th></th>\n",
       "    </tr>\n",
       "  </thead>\n",
       "  <tbody>\n",
       "    <tr>\n",
       "      <th>1</th>\n",
       "      <td>Star Wars (1977)</td>\n",
       "    </tr>\n",
       "    <tr>\n",
       "      <th>2</th>\n",
       "      <td>Return of the Jedi (1983)</td>\n",
       "    </tr>\n",
       "    <tr>\n",
       "      <th>3</th>\n",
       "      <td>Independence Day (ID4) (1996)</td>\n",
       "    </tr>\n",
       "    <tr>\n",
       "      <th>4</th>\n",
       "      <td>Rock, The (1996)</td>\n",
       "    </tr>\n",
       "    <tr>\n",
       "      <th>5</th>\n",
       "      <td>Mission: Impossible (1996)</td>\n",
       "    </tr>\n",
       "  </tbody>\n",
       "</table>\n",
       "</div>"
      ]
     },
     "execution_count": 541,
     "metadata": {},
     "output_type": "execute_result"
    }
   ],
   "execution_count": 541
  },
  {
   "cell_type": "markdown",
   "source": [
    "## **Part 3: Graph-Based Recommender (Pixie-Inspired Algorithm)**"
   ],
   "metadata": {
    "id": "YhZXLz7Rh_VC"
   }
  },
  {
   "cell_type": "markdown",
   "source": [
    "### **Adjacency List**"
   ],
   "metadata": {
    "id": "u_YceL18lWlN"
   }
  },
  {
   "cell_type": "markdown",
   "source": [
    "#### **Objective**\n",
    "In this task, you will preprocess the Movie dataset and construct a **graph representation** where:\n",
    "- **Users** are connected to the movies they have rated.\n",
    "- **Movies** are connected to users who have rated them.\n",
    "  \n",
    "This graph structure will help in exploring **user-movie relationships** for recommendations."
   ],
   "metadata": {
    "id": "CFF1tUDsipIX"
   }
  },
  {
   "cell_type": "markdown",
   "source": [
    "#### **Step 1: Merge Ratings with Movie Titles**\n",
    "Since we have **movie IDs** in the ratings dataset but need human-readable movie titles, we will:\n",
    "1. Merge the `ratings` DataFrame with the `movies` DataFrame using the `'movie_id'` column.\n",
    "2. This allows each rating to be associated with a **movie title**.\n",
    "\n",
    "#### **Hint:**\n",
    "Use the following Pandas operation to merge:\n",
    "```python\n",
    "ratings = ratings.merge(movies, on='movie_id')\n",
    "```"
   ],
   "metadata": {
    "id": "-3OPInjhkUzy"
   }
  },
  {
   "cell_type": "markdown",
   "source": [
    "\n",
    "#### **Step 2: Aggregate Ratings**\n",
    "Since multiple users may rate the same movie multiple times, we:\n",
    "1. Group the dataset by `['user_id', 'movie_id', 'title']`.\n",
    "2. Compute the **mean rating** for each movie by each user.\n",
    "3. Reset the index to ensure we maintain a clean DataFrame structure.\n",
    "\n",
    "#### **Hint:**  \n",
    "Use `groupby()` and `mean()` as follows:\n",
    "```python\n",
    "ratings = ratings.groupby(['user_id', 'movie_id', 'title'])['rating'].mean().reset_index()\n",
    "```"
   ],
   "metadata": {
    "id": "3OPUXyNVkfHr"
   }
  },
  {
   "cell_type": "markdown",
   "source": [
    "#### **Step 3: Normalize Ratings**\n",
    "Since different users have different rating biases, we normalize ratings by:\n",
    "1. **Computing each user's mean rating**.\n",
    "2. **Subtracting the mean rating** from each individual rating.\n",
    "\n",
    "#### **Instructions:**\n",
    "- Use `groupby('user_id')` to group ratings by users.\n",
    "- Apply `transform(lambda x: x - x.mean())` to adjust ratings.\n",
    "\n",
    "#### **Hint:**  \n",
    "Normalize ratings using:\n",
    "```python\n",
    "ratings['rating'] = ratings.groupby('user_id')['rating'].transform(lambda x: x - x.mean())\n",
    "```\n",
    "This ensures each user’s ratings are centered around zero, making similarity calculations fairer."
   ],
   "metadata": {
    "id": "NU1fB66WkqEO"
   }
  },
  {
   "cell_type": "markdown",
   "source": [
    "#### **Step 4: Construct the Graph Representation**\n",
    "We represent the user-movie interactions as an **undirected graph** using an **adjacency list**:\n",
    "- Each **user** is a node connected to movies they rated.\n",
    "- Each **movie** is a node connected to users who rated it.\n",
    "\n",
    "#### **Graph Construction Steps:**\n",
    "1. Initialize an empty dictionary `graph = {}`.\n",
    "2. Iterate through the **ratings dataset**.\n",
    "3. For each `user_id` and `movie_id` pair:\n",
    "   - Add the movie to the user’s set of connections.\n",
    "   - Add the user to the movie’s set of connections.\n",
    "\n",
    "#### **Hint:**  \n",
    "The following code builds the graph:\n",
    "\n",
    "```python\n",
    "graph = {}\n",
    "for _, row in ratings.iterrows():\n",
    "    user, movie = row['user_id'], row['movie_id']\n",
    "    if user not in graph:\n",
    "        graph[user] = set()\n",
    "    if movie not in graph:\n",
    "        graph[movie] = set()\n",
    "    graph[user].add(movie)\n",
    "    graph[movie].add(user)\n",
    "```\n",
    "\n",
    "This results in a **bipartite graph**, where:\n",
    "- **Users** are connected to multiple movies.\n",
    "- **Movies** are connected to multiple users."
   ],
   "metadata": {
    "id": "79NB8zIWkvWP"
   }
  },
  {
   "cell_type": "markdown",
   "source": [
    "#### **Step 5: Understanding the Graph**\n",
    "- **Nodes** in the graph represent **users and movies**.\n",
    "- **Edges** exist between a user and a movie **if the user has rated the movie**.\n",
    "- This structure allows us to find **users with similar movie tastes** and **movies frequently watched together**.\n",
    "\n",
    "#### **Exploring the Graph**\n",
    "- **Find a user’s rated movies:**  \n",
    "  ```python\n",
    "  user_id = 1\n",
    "  print(graph[user_id])  # Movies rated by user 1\n",
    "  ```\n",
    "\n",
    "- **Find users who rated a movie:**  \n",
    "  ```python\n",
    "  movie_id = 50\n",
    "  print(graph[movie_id])  # Users who rated movie 50\n",
    "  ```"
   ],
   "metadata": {
    "id": "wEuVgjAAk4KV"
   }
  },
  {
   "cell_type": "code",
   "source": [
    "# Code the function here\n",
    "ratings_n = ratings.merge(movies, on=\"movie_id\")\n",
    "ratings_n = ratings_n.groupby([\"user_id\", \"movie_id\", \"title\"])[\"rating\"].mean().reset_index()\n",
    "\n",
    "ratings_n['rating'] = ratings_n.groupby('user_id')['rating'].transform(lambda x: x - x.mean())\n",
    "\n",
    "# I've slightly modified the graph code from the above code bc I believe it produces erroneous information\n",
    "# For example, with the given hint above, when doing graph[user_id] where user_id=2 it contains the number 5. However, user 2 did not rate movie 5, but movie 2 was rated by user 5.\n",
    "# There is significant overlap between user_ids and movie_ids leading to incorrect information upon lookup\n",
    "# I believe this change fixes it while still being a bipartite graph\n",
    "graph = {\"movies\": {}, \"users\": {}}\n",
    "for _, row in ratings_n.iterrows():\n",
    "    user, movie = row['user_id'], row['movie_id']\n",
    "    if user not in graph[\"users\"]:\n",
    "        graph[\"users\"][user] = set()\n",
    "    if movie not in graph[\"movies\"]:\n",
    "        graph[\"movies\"][movie] = set()\n",
    "    graph[\"users\"][user].add(movie)\n",
    "    graph[\"movies\"][movie].add(user)\n",
    "\n"
   ],
   "metadata": {
    "id": "b4V2aL4DiMM4",
    "ExecuteTime": {
     "end_time": "2025-04-15T17:15:31.450538Z",
     "start_time": "2025-04-15T17:15:30.056509Z"
    }
   },
   "outputs": [],
   "execution_count": 401
  },
  {
   "metadata": {
    "ExecuteTime": {
     "end_time": "2025-04-15T17:20:35.572527Z",
     "start_time": "2025-04-15T17:20:35.568190Z"
    }
   },
   "cell_type": "code",
   "source": [
    "# This returns the movies that user_id has rated\n",
    "user_id = 2\n",
    "graph[\"users\"][user_id]"
   ],
   "outputs": [
    {
     "data": {
      "text/plain": [
       "{1,\n",
       " 10,\n",
       " 13,\n",
       " 14,\n",
       " 19,\n",
       " 25,\n",
       " 50,\n",
       " 100,\n",
       " 111,\n",
       " 127,\n",
       " 237,\n",
       " 242,\n",
       " 251,\n",
       " 255,\n",
       " 257,\n",
       " 258,\n",
       " 269,\n",
       " 272,\n",
       " 273,\n",
       " 274,\n",
       " 275,\n",
       " 276,\n",
       " 277,\n",
       " 278,\n",
       " 279,\n",
       " 280,\n",
       " 281,\n",
       " 282,\n",
       " 283,\n",
       " 284,\n",
       " 285,\n",
       " 286,\n",
       " 287,\n",
       " 288,\n",
       " 289,\n",
       " 290,\n",
       " 291,\n",
       " 292,\n",
       " 293,\n",
       " 294,\n",
       " 295,\n",
       " 296,\n",
       " 297,\n",
       " 298,\n",
       " 299,\n",
       " 300,\n",
       " 301,\n",
       " 302,\n",
       " 303,\n",
       " 304,\n",
       " 305,\n",
       " 306,\n",
       " 307,\n",
       " 308,\n",
       " 309,\n",
       " 310,\n",
       " 311,\n",
       " 312,\n",
       " 313,\n",
       " 314,\n",
       " 315,\n",
       " 316}"
      ]
     },
     "execution_count": 404,
     "metadata": {},
     "output_type": "execute_result"
    }
   ],
   "execution_count": 404
  },
  {
   "metadata": {
    "ExecuteTime": {
     "end_time": "2025-04-15T17:20:36.795828Z",
     "start_time": "2025-04-15T17:20:36.792392Z"
    }
   },
   "cell_type": "code",
   "source": [
    "# This returns the users that have rated movie_id\n",
    "movie_id = 2\n",
    "graph[\"movies\"][movie_id]"
   ],
   "outputs": [
    {
     "data": {
      "text/plain": [
       "{1,\n",
       " 5,\n",
       " 13,\n",
       " 22,\n",
       " 30,\n",
       " 42,\n",
       " 49,\n",
       " 64,\n",
       " 72,\n",
       " 83,\n",
       " 87,\n",
       " 92,\n",
       " 95,\n",
       " 102,\n",
       " 110,\n",
       " 130,\n",
       " 178,\n",
       " 193,\n",
       " 197,\n",
       " 200,\n",
       " 201,\n",
       " 207,\n",
       " 213,\n",
       " 217,\n",
       " 222,\n",
       " 234,\n",
       " 249,\n",
       " 250,\n",
       " 256,\n",
       " 267,\n",
       " 268,\n",
       " 271,\n",
       " 276,\n",
       " 279,\n",
       " 280,\n",
       " 292,\n",
       " 293,\n",
       " 301,\n",
       " 303,\n",
       " 305,\n",
       " 320,\n",
       " 325,\n",
       " 327,\n",
       " 346,\n",
       " 363,\n",
       " 373,\n",
       " 374,\n",
       " 378,\n",
       " 379,\n",
       " 385,\n",
       " 387,\n",
       " 393,\n",
       " 398,\n",
       " 399,\n",
       " 405,\n",
       " 407,\n",
       " 416,\n",
       " 425,\n",
       " 429,\n",
       " 435,\n",
       " 442,\n",
       " 450,\n",
       " 455,\n",
       " 466,\n",
       " 472,\n",
       " 484,\n",
       " 487,\n",
       " 495,\n",
       " 497,\n",
       " 506,\n",
       " 521,\n",
       " 532,\n",
       " 536,\n",
       " 543,\n",
       " 551,\n",
       " 561,\n",
       " 566,\n",
       " 600,\n",
       " 618,\n",
       " 621,\n",
       " 622,\n",
       " 627,\n",
       " 632,\n",
       " 640,\n",
       " 642,\n",
       " 643,\n",
       " 648,\n",
       " 650,\n",
       " 653,\n",
       " 655,\n",
       " 660,\n",
       " 671,\n",
       " 682,\n",
       " 686,\n",
       " 705,\n",
       " 709,\n",
       " 715,\n",
       " 727,\n",
       " 738,\n",
       " 746,\n",
       " 749,\n",
       " 751,\n",
       " 757,\n",
       " 764,\n",
       " 773,\n",
       " 774,\n",
       " 790,\n",
       " 795,\n",
       " 796,\n",
       " 798,\n",
       " 804,\n",
       " 806,\n",
       " 807,\n",
       " 815,\n",
       " 826,\n",
       " 830,\n",
       " 844,\n",
       " 846,\n",
       " 864,\n",
       " 868,\n",
       " 870,\n",
       " 880,\n",
       " 886,\n",
       " 889,\n",
       " 892,\n",
       " 896,\n",
       " 899,\n",
       " 916,\n",
       " 924,\n",
       " 934,\n",
       " 943}"
      ]
     },
     "execution_count": 405,
     "metadata": {},
     "output_type": "execute_result"
    }
   ],
   "execution_count": 405
  },
  {
   "cell_type": "markdown",
   "source": [
    "### **Implement Weighted Random Walks**"
   ],
   "metadata": {
    "id": "_ZE31gB7lImI"
   }
  },
  {
   "cell_type": "markdown",
   "source": [
    "#### **Random Walk-Based Movie Recommendation System (Weighted Pixie)**"
   ],
   "metadata": {
    "id": "yHe42rlJl9kD"
   }
  },
  {
   "cell_type": "markdown",
   "source": [
    "#### **Objective**\n",
    "In this task, you will implement a **random-walk-based recommendation algorithm** using the **Weighted Pixie** method. This technique uses a **user-movie bipartite graph** to recommend movies by simulating a random walk from a given user or movie."
   ],
   "metadata": {
    "id": "jyqptwreo-IP"
   }
  },
  {
   "cell_type": "markdown",
   "source": [
    "#### **Step 1: Import Required Libraries**\n",
    "Make sure you have the necessary libraries:\n",
    "\n",
    "```python\n",
    "import random  # For random walks\n",
    "import pandas as pd  # For handling data\n",
    "```"
   ],
   "metadata": {
    "id": "jFgyzzdCpfzu"
   }
  },
  {
   "cell_type": "markdown",
   "source": [
    "#### **Step 2: Implement the Random Walk Algorithm**\n",
    "Your task is to **simulate a random walk** from a given starting point in the **bipartite user-movie graph**.\n",
    "\n",
    "##### **Hints for Implementation**\n",
    "- Start from **either a user or a movie**.\n",
    "- At each step, **randomly move** to a connected node.\n",
    "- Keep track of **how many times each movie is visited**.\n",
    "- After completing the walk, **rank movies by visit count**."
   ],
   "metadata": {
    "id": "_FVGjhl0ppFK"
   }
  },
  {
   "cell_type": "markdown",
   "source": [
    "#### **Step 3: Implement User-Based Recommendation**\n",
    "**Hints:**\n",
    "- Check if the `user_id` exists in the `graph`.\n",
    "- Start a loop that runs for `walk_length` steps.\n",
    "- Randomly pick a **connected node** (user or movie).\n",
    "- Track how many times each **movie** is visited.\n",
    "- Sort movies by visit frequency and return the **top N**.\n",
    "\n",
    "#### **Step 4: Implement Movie-Based Recommendation**\n",
    "**Hints:**\n",
    "- Find the `movie_id` corresponding to the given `movie_name`.\n",
    "- Ensure the movie exists in the `graph`.\n",
    "- Start a random walk from that movie.\n",
    "- Follow the same **tracking and ranking** process as the user-based version.\n",
    "\n",
    "**Note:**  \n",
    "**Your task:** Implement a function `weighted_pixie_recommend(user_id, walk_length=15, num=5)` or `weighted_pixie_recommend(movie_name, walk_length=15, num=5)`.  \n",
    "**Implement either Step 3 or Step 4.**"
   ],
   "metadata": {
    "id": "E7D7Pj6trss9"
   }
  },
  {
   "cell_type": "markdown",
   "source": [
    "#### **Step 5: Running Your Recommendation System**\n",
    "Once your function is implemented, test it by calling:\n",
    "\n",
    "##### **Example: User-Based Recommendation**\n",
    "```python\n",
    "weighted_pixie_recommend(1, walk_length=15, num=5)\n",
    "```\n",
    "| Ranking | Movie Name                     |\n",
    "|---------|--------------------------------|\n",
    "| 1       | My Own Private Idaho (1991)   |\n",
    "| 2       | Aladdin (1992)                |\n",
    "| 3       | 12 Angry Men (1957)           |\n",
    "| 4       | Happy Gilmore (1996)          |\n",
    "| 5       | Copycat (1995)                |\n",
    "\n",
    "\n",
    "##### **Example: Movie-Based Recommendation**\n",
    "```python\n",
    "weighted_pixie_recommend(\"Jurassic Park (1993)\", walk_length=10, num=5)\n",
    "```\n",
    "| Ranking | Movie Name                           |\n",
    "|---------|-------------------------------------|\n",
    "| 1       | Rear Window (1954)                 |\n",
    "| 2       | Great Dictator, The (1940)         |\n",
    "| 3       | Field of Dreams (1989)             |\n",
    "| 4       | Casablanca (1942)                  |\n",
    "| 5       | Nightmare Before Christmas, The (1993) |\n"
   ],
   "metadata": {
    "id": "qxN_ibCCrCpx"
   }
  },
  {
   "cell_type": "markdown",
   "source": [
    "#### **Step 6: Understanding the Results**\n",
    "Your function should return a **DataFrame** structured as follows:\n",
    "\n",
    "| Ranking | Movie Name |\n",
    "|---------|-----------|\n",
    "| 1       | Movie A   |\n",
    "| 2       | Movie B   |\n",
    "| 3       | Movie C   |\n",
    "| 4       | Movie D   |\n",
    "| 5       | Movie E   |\n",
    "\n",
    "Each movie is ranked based on **how frequently it was visited** during the walk.\n",
    "\n",
    "#### **Experiment with Different Parameters**\n",
    "- Try different **`walk_length`** values and observe how it changes recommendations.\n",
    "- Adjust the number of recommended movies (`num`)."
   ],
   "metadata": {
    "id": "ZpUH9IzVr5aQ"
   }
  },
  {
   "cell_type": "code",
   "source": [
    "# Code the function here\n",
    "\n",
    "import random\n",
    "\n",
    "def pick_random(items):\n",
    "    idx = random.randrange(0, len(items))\n",
    "    return list(items)[idx]\n",
    "\n",
    "# Random walks by starting at a random node then moving to a random node either movie or user\n",
    "# Returns the list of movies visited and their visit counts\n",
    "# node_type is a string of either \"movies\" or \"users\". This is needed because of the changes to the graph structure.\n",
    "def random_walk(walk_length=10000, start_node_id=None, node_type=None):\n",
    "    # if user has not provided a start node, pick one randomly\n",
    "    if start_node_id is None:\n",
    "        category = pick_random([\"movies\", \"users\"])\n",
    "        rand_node = pick_random(graph[category]) # This now contains either a random user or movie\n",
    "        start_node_id = rand_node\n",
    "        node_type = category\n",
    "\n",
    "\t# Init empty dict containing the movie ids and their visit count to 0\n",
    "    visited = dict.fromkeys(graph[\"movies\"].keys(), 0)\n",
    "\n",
    "\t# Do random walk for walk_length times\n",
    "    for _ in range(walk_length):\n",
    "        rand_node = pick_random(graph[node_type][start_node_id])\n",
    "        if node_type == \"movies\":\n",
    "            node_type = \"users\"\n",
    "        else:\n",
    "            visited[rand_node] += 1\n",
    "            node_type = \"movies\"\n",
    "\n",
    "\t# Sorts descending to get most visited at the top\n",
    "    visited = {key: val for key, val in sorted(visited.items(), key = lambda e: e[1], reverse=True)}\n",
    "    return visited"
   ],
   "metadata": {
    "id": "tZD5fjG-lx3b",
    "ExecuteTime": {
     "end_time": "2025-04-15T21:07:25.376582Z",
     "start_time": "2025-04-15T21:07:25.372392Z"
    }
   },
   "outputs": [],
   "execution_count": 514
  },
  {
   "metadata": {
    "ExecuteTime": {
     "end_time": "2025-04-15T23:23:19.823998Z",
     "start_time": "2025-04-15T23:23:19.807628Z"
    }
   },
   "cell_type": "code",
   "source": [
    "# User based\n",
    "def weighted_pixie_recommendation(userid, walk_length=10000, n=5):\n",
    "    # Check if user is valid\n",
    "    if userid not in graph[\"users\"]:\n",
    "        print(\"User Not Found\")\n",
    "        return -1\n",
    "\n",
    "\t# Run the random walk from the given starting point\n",
    "    result = list(random_walk(walk_length=walk_length, start_node_id=userid, node_type=\"users\"))[:n]\n",
    "\n",
    "\t# Get movie names from n top movies\n",
    "    movie_names = [ movies.loc[movies[\"movie_id\"] == x, 'title'].values[0] for x in result ]\n",
    "\n",
    "    ranks = pandas.DataFrame(\n",
    "        {\n",
    "            \"Ranking\": range(1, n+1),\n",
    "            \"Movie Name\": movie_names\n",
    "\t\t}\n",
    "\t)\n",
    "    ranks.set_index([\"Ranking\"], inplace=True)\n",
    "\n",
    "    return ranks\n",
    "\n",
    "weighted_pixie_recommendation(10)"
   ],
   "outputs": [
    {
     "data": {
      "text/plain": [
       "                          Movie Name\n",
       "Ranking                             \n",
       "1                  GoodFellas (1990)\n",
       "2          Better Off Dead... (1985)\n",
       "3                   Game, The (1997)\n",
       "4        Beauty and the Beast (1991)\n",
       "5                    Ref, The (1994)"
      ],
      "text/html": [
       "<div>\n",
       "<style scoped>\n",
       "    .dataframe tbody tr th:only-of-type {\n",
       "        vertical-align: middle;\n",
       "    }\n",
       "\n",
       "    .dataframe tbody tr th {\n",
       "        vertical-align: top;\n",
       "    }\n",
       "\n",
       "    .dataframe thead th {\n",
       "        text-align: right;\n",
       "    }\n",
       "</style>\n",
       "<table border=\"1\" class=\"dataframe\">\n",
       "  <thead>\n",
       "    <tr style=\"text-align: right;\">\n",
       "      <th></th>\n",
       "      <th>Movie Name</th>\n",
       "    </tr>\n",
       "    <tr>\n",
       "      <th>Ranking</th>\n",
       "      <th></th>\n",
       "    </tr>\n",
       "  </thead>\n",
       "  <tbody>\n",
       "    <tr>\n",
       "      <th>1</th>\n",
       "      <td>GoodFellas (1990)</td>\n",
       "    </tr>\n",
       "    <tr>\n",
       "      <th>2</th>\n",
       "      <td>Better Off Dead... (1985)</td>\n",
       "    </tr>\n",
       "    <tr>\n",
       "      <th>3</th>\n",
       "      <td>Game, The (1997)</td>\n",
       "    </tr>\n",
       "    <tr>\n",
       "      <th>4</th>\n",
       "      <td>Beauty and the Beast (1991)</td>\n",
       "    </tr>\n",
       "    <tr>\n",
       "      <th>5</th>\n",
       "      <td>Ref, The (1994)</td>\n",
       "    </tr>\n",
       "  </tbody>\n",
       "</table>\n",
       "</div>"
      ]
     },
     "execution_count": 545,
     "metadata": {},
     "output_type": "execute_result"
    }
   ],
   "execution_count": 545
  },
  {
   "metadata": {
    "ExecuteTime": {
     "end_time": "2025-04-15T21:13:05.303566Z",
     "start_time": "2025-04-15T21:13:05.285058Z"
    }
   },
   "cell_type": "code",
   "source": [
    "# Item based\n",
    "def weighted_pixie_recommendation(movie_name, walk_length=10000, n=5):\n",
    "    # Find movie_id from title\n",
    "    try:\n",
    "        movieid = movies.loc[ movies[\"title\"] == movie_name, \"movie_id\" ].values[0]\n",
    "    except Exception as e:\n",
    "        print(f\"Movie Not Found. Err:{e}\")\n",
    "        return -1\n",
    "\n",
    "\t# Run the random walk from the given starting position\n",
    "    result = list(random_walk(walk_length=walk_length, start_node_id=movieid, node_type=\"movies\"))[:n]\n",
    "\n",
    "\t# get movie names from n top movies\n",
    "    movie_names = [ movies.loc[movies[\"movie_id\"] == x, 'title'].values[0] for x in result ]\n",
    "\n",
    "    ranks = pandas.DataFrame(\n",
    "        {\n",
    "            \"Ranking\": range(1, n+1),\n",
    "            \"Movie Name\": movie_names\n",
    "\t\t}\n",
    "\t)\n",
    "    ranks.set_index([\"Ranking\"], inplace=True)\n",
    "\n",
    "    return ranks\n",
    "\n",
    "weighted_pixie_recommendation(\"Jurassic Park (1993)\")"
   ],
   "outputs": [
    {
     "data": {
      "text/plain": [
       "                                             Movie Name\n",
       "Ranking                                                \n",
       "1        Mystery Science Theater 3000: The Movie (1996)\n",
       "2                                Cinema Paradiso (1988)\n",
       "3                                   Broken Arrow (1996)\n",
       "4                      Shawshank Redemption, The (1994)\n",
       "5                                  Birdcage, The (1996)"
      ],
      "text/html": [
       "<div>\n",
       "<style scoped>\n",
       "    .dataframe tbody tr th:only-of-type {\n",
       "        vertical-align: middle;\n",
       "    }\n",
       "\n",
       "    .dataframe tbody tr th {\n",
       "        vertical-align: top;\n",
       "    }\n",
       "\n",
       "    .dataframe thead th {\n",
       "        text-align: right;\n",
       "    }\n",
       "</style>\n",
       "<table border=\"1\" class=\"dataframe\">\n",
       "  <thead>\n",
       "    <tr style=\"text-align: right;\">\n",
       "      <th></th>\n",
       "      <th>Movie Name</th>\n",
       "    </tr>\n",
       "    <tr>\n",
       "      <th>Ranking</th>\n",
       "      <th></th>\n",
       "    </tr>\n",
       "  </thead>\n",
       "  <tbody>\n",
       "    <tr>\n",
       "      <th>1</th>\n",
       "      <td>Mystery Science Theater 3000: The Movie (1996)</td>\n",
       "    </tr>\n",
       "    <tr>\n",
       "      <th>2</th>\n",
       "      <td>Cinema Paradiso (1988)</td>\n",
       "    </tr>\n",
       "    <tr>\n",
       "      <th>3</th>\n",
       "      <td>Broken Arrow (1996)</td>\n",
       "    </tr>\n",
       "    <tr>\n",
       "      <th>4</th>\n",
       "      <td>Shawshank Redemption, The (1994)</td>\n",
       "    </tr>\n",
       "    <tr>\n",
       "      <th>5</th>\n",
       "      <td>Birdcage, The (1996)</td>\n",
       "    </tr>\n",
       "  </tbody>\n",
       "</table>\n",
       "</div>"
      ]
     },
     "execution_count": 535,
     "metadata": {},
     "output_type": "execute_result"
    }
   ],
   "execution_count": 535
  },
  {
   "cell_type": "markdown",
   "source": [
    "---"
   ],
   "metadata": {
    "id": "Q36Y2C7PxWO0"
   }
  },
  {
   "cell_type": "markdown",
   "source": [
    "## **Submission Requirements:**"
   ],
   "metadata": {
    "id": "9iKlQlvBtiGe"
   }
  },
  {
   "cell_type": "markdown",
   "source": [
    "To successfully complete this assignment, ensure that you submit the following:\n",
    "\n",
    "\n",
    "### **1. Jupyter Notebook Submission**\n",
    "- Submit a **fully completed Jupyter Notebook** that includes:\n",
    "  - **All implemented recommendation functions** (user-based, item-based, and random walk-based recommendations).\n",
    "  - **Code explanations** in markdown cells to describe each step.\n",
    "  - **Results and insights** from running your recommendation models.\n",
    "\n",
    "\n",
    "### **2. Explanation of Pixie-Inspired Algorithms (3-5 Paragraphs)**\n",
    "- Write a **detailed explanation** of **Pixie-inspired random walk algorithms** used for recommendations.\n",
    "- Your explanation should cover:\n",
    "  - What **Pixie-inspired recommendation systems** are.\n",
    "  - How **random walks** help in identifying relevant recommendations.\n",
    "  - Any real-world applications of such algorithms in industry.\n",
    "\n",
    "\n",
    "### **3. Report for the Submitted Notebook**\n",
    "Your report should be structured as follows:\n",
    "\n",
    "#### **Title: Movie Recommendation System Report**\n",
    "\n",
    "#### **1. Introduction**\n",
    "- Briefly introduce **movie recommendation systems** and why they are important.\n",
    "- Explain the **different approaches used** (user-based, item-based, random-walk).\n",
    "\n",
    "#### **2. Dataset Description**\n",
    "- Describe the **MovieLens 100K dataset**:\n",
    "  - Number of users, movies, and ratings.\n",
    "  - What features were used.\n",
    "  - Any preprocessing performed.\n",
    "\n",
    "#### **3. Methodology**\n",
    "- Explain the three recommendation techniques implemented:\n",
    "  - **User-based collaborative filtering** (how user similarity was calculated).\n",
    "  - **Item-based collaborative filtering** (how item similarity was determined).\n",
    "  - **Random-walk-based Pixie algorithm** (why graph-based approaches are effective).\n",
    "  \n",
    "#### **4. Implementation Details**\n",
    "- Discuss the steps taken to build the functions.\n",
    "- Describe how the **adjacency list graph** was created.\n",
    "- Explain how **random walks** were performed and how visited movies were ranked.\n",
    "\n",
    "#### **5. Results and Evaluation**\n",
    "- Present **example outputs** from each recommendation approach.\n",
    "- Compare the different methods in terms of accuracy and usefulness.\n",
    "- Discuss any **limitations** in the implementation.\n",
    "\n",
    "#### **6. Conclusion**\n",
    "- Summarize the key takeaways from the project.\n",
    "- Discuss potential improvements (e.g., **hybrid models, additional features**).\n",
    "- Suggest real-world applications of the methods used."
   ],
   "metadata": {
    "id": "NHGGedZexPs0"
   }
  },
  {
   "cell_type": "markdown",
   "source": [
    "### **Submission Instructions**"
   ],
   "metadata": {
    "id": "NWgT_Shy-vUK"
   }
  },
  {
   "cell_type": "markdown",
   "source": [
    "- Submit `.zip` file consisting of Jupyter Notebook and all the datafiles (provided) and the ones saved [i.e. `users.csv`, `movies.csv` and `ratings.csv`]. Also, include the Report and Pixie Algorithm explanation document.\n",
    "- [`Bonus 10 Points`] **Upload your Jupyter Notebook, Explanation Document, and Report** to your GitHub repository.\n",
    "- Ensure the repository is public and contains:\n",
    "  - `users.csv`, `movies.csv` and `ratings.csv` [These are the Dataframes which were created in part 1. Save and export them as a `.csv` file]\n",
    "  - `Movie_Recommendation.ipynb`\n",
    "  - `Pixie_Algorithm_Explanation.pdf` or `.md`\n",
    "  - `Recommendation_Report.pdf` or `.md`\n",
    "- **Submit the GitHub repository link in the cell below.**\n",
    "\n",
    "\n",
    "#### **Example Submission Format**\n",
    "```text\n",
    "GitHub Repository: https://github.com/username/Movie-Recommendation\n",
    "```"
   ],
   "metadata": {
    "id": "Nuz1s-Vh_L55"
   }
  },
  {
   "cell_type": "code",
   "source": [
    "# Submit the Github Link here:\n",
    "https://github.com/TrustyTraitor/ITCS6162_Programming_Assignment"
   ],
   "metadata": {
    "id": "jol9nRDau6fZ"
   },
   "execution_count": null,
   "outputs": []
  },
  {
   "cell_type": "markdown",
   "source": [
    "### **Grading Rubric: ITCS 6162 - Data Mining Assignment**"
   ],
   "metadata": {
    "id": "oQ6aluK-0ZMa"
   }
  },
  {
   "cell_type": "markdown",
   "source": [
    "\n",
    "| **Category**                              | **Criteria**                                                     | **Points** |\n",
    "|-------------------------------------------|----------------------------------------------------------------|------------|\n",
    "| **Part 1: Exploring and Cleaning Data (15 pts)**  | Properly loads `u.user`, `u.movies`, and `u.item` datasets into DataFrames | 5 |\n",
    "|                                           | Handles missing values, duplicates, and inconsistencies appropriately | 5 |\n",
    "|                                           | Saves the cleaned datasets into CSV files: `users.csv`, `movies.csv`, `ratings.csv` | 5 |\n",
    "| **Part 2: Collaborative Filtering-Based Recommendation (30 pts)** | Implements user-based collaborative filtering correctly | 10 |\n",
    "|                                           | Implements item-based collaborative filtering correctly | 10 |\n",
    "|                                           | Computes similarity measures accurately and provides valid recommendations | 10 |\n",
    "| **Part 3: Graph-Based Recommender (Pixie-Inspired Algorithm) (35 pts)** | Constructs adjacency lists properly from user-movie interactions | 10 |\n",
    "|                                           | Implements weighted random walk-based recommendation correctly | 15 |\n",
    "|                                           | Explains and justifies the algorithm design choices (Pixie-inspired) | 10 |\n",
    "| **Code Quality & Documentation (10 pts)** | Code is well-structured, efficient, and follows best practices | 5 |\n",
    "|                                           | Markdown explanations and comments are clear and enhance understanding | 5 |\n",
    "| **Results & Interpretation (5 pts)**      | Provides meaningful insights from the recommendation system's output | 5 |\n",
    "| **Submission & Report (5 pts)**          | Submits all required files in the correct format (ZIP file with Jupyter notebook, processed CSV files, and project report) | 5 |\n",
    "| **Total**                                 |                              | 100 |\n",
    "\n",
    "#### **Bonus (10 pts)**\n",
    "| **Category**                              | **Criteria**                                                     | **Points** |\n",
    "|-------------------------------------------|----------------------------------------------------------------|------------|\n",
    "| **GitHub Submission**                     | Provides a well-documented GitHub repository with CSV files, a structured README, and a properly formatted Jupyter Notebook | 10 |"
   ],
   "metadata": {
    "id": "sNAfeIzA_fCq"
   }
  }
 ]
}
